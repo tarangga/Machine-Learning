{
  "nbformat": 4,
  "nbformat_minor": 0,
  "metadata": {
    "accelerator": "GPU",
    "colab": {
      "name": "Experiment: Abstractive Summarization - Method: Teacher Forcing, Seq2Seq",
      "provenance": [],
      "collapsed_sections": [
        "HDblL3zTQicX",
        "72tJsSn7w2LT",
        "iDONzKe3xOEa",
        "-aF3xj-oxQ_y"
      ],
      "include_colab_link": true
    },
    "kernelspec": {
      "display_name": "Python 3",
      "name": "python3"
    },
    "language_info": {
      "name": "python"
    }
  },
  "cells": [
    {
      "cell_type": "markdown",
      "metadata": {
        "id": "view-in-github",
        "colab_type": "text"
      },
      "source": [
        "<a href=\"https://colab.research.google.com/github/tarangga/Machine-Learning/blob/main/Experiment_Abstractive_Summarization_Method_Teacher_Forcing%2C_Seq2Seq.ipynb\" target=\"_parent\"><img src=\"https://colab.research.google.com/assets/colab-badge.svg\" alt=\"Open In Colab\"/></a>"
      ]
    },
    {
      "cell_type": "markdown",
      "metadata": {
        "id": "SQlNkcAyQlni"
      },
      "source": [
        "# Library"
      ]
    },
    {
      "cell_type": "code",
      "metadata": {
        "id": "e5X5Sw2l8KnC"
      },
      "source": [
        "import pandas as pd\n",
        "import tensorflow as tf\n",
        "import numpy as np\n",
        "import json \n",
        "import re\n",
        "\n",
        "from tensorflow.keras.preprocessing.text import Tokenizer \n",
        "from tensorflow.keras.preprocessing.sequence import pad_sequences\n",
        "from tensorflow.keras.layers import Input, LSTM, Embedding, Dense, Concatenate, TimeDistributed\n",
        "from tensorflow.keras.models import Model\n",
        "from tensorflow.keras.callbacks import EarlyStopping, ModelCheckpoint\n",
        "from sklearn.model_selection import train_test_split\n",
        "from keras.callbacks import ModelCheckpoint\n",
        "\n",
        "from keras.layers import RepeatVector\n",
        "from keras.models import load_model\n",
        "\n",
        "from tensorflow.keras.utils import plot_model\n",
        "import os.path"
      ],
      "execution_count": 1,
      "outputs": []
    },
    {
      "cell_type": "code",
      "metadata": {
        "colab": {
          "base_uri": "https://localhost:8080/"
        },
        "id": "A6SOorNyPJI0",
        "outputId": "46edb7ef-92c0-4761-e301-d726fb2a013d"
      },
      "source": [
        "from google.colab import drive\n",
        "drive.mount('/content/drive')"
      ],
      "execution_count": 2,
      "outputs": [
        {
          "output_type": "stream",
          "text": [
            "Mounted at /content/drive\n"
          ],
          "name": "stdout"
        }
      ]
    },
    {
      "cell_type": "markdown",
      "metadata": {
        "id": "HDblL3zTQicX"
      },
      "source": [
        "# Function"
      ]
    },
    {
      "cell_type": "code",
      "metadata": {
        "id": "Uaxh2RcS8VFD"
      },
      "source": [
        "def read_jsonl(path):\n",
        "  with open(path) as f:\n",
        "    lines = f.readlines()\n",
        "  return [json.loads(l) for l in lines]\n",
        " \n",
        "def join_summary(arr):\n",
        "  return '\\n'.join(\n",
        "      [' '.join(row) for row in arr]\n",
        "  )\n",
        " \n",
        "def join_paragraph(arr):\n",
        "  return '\\n'.join(\n",
        "      ['\\n'.join(\n",
        "          [' '.join(col) for col in row]\n",
        "      ) for row in arr]\n",
        "  )\n",
        " \n",
        "def preprocessing(text):\n",
        "  text = re.sub('[^\\w\\d]+', ' ', text)\n",
        "  return text\n",
        " \n",
        "def flat(arr):\n",
        "  res = []\n",
        "  for row in arr:\n",
        "    for col in row:\n",
        "      res.append(col)\n",
        "  return res\n",
        " \n",
        "def select_paragraph(golds, paragraphs):\n",
        "  gold_paragraph = []\n",
        "  for j in range(0, len(golds)):\n",
        "    gold = golds[j]\n",
        "    text = ''\n",
        "    for i in range(0, len(gold)):\n",
        "      if gold[i]:\n",
        "        text = text + ' '.join(paragraphs[j][i]) + '\\n '\n",
        "    gold_paragraph.append(text.strip())\n",
        "  \n",
        "  return gold_paragraph\n",
        " \n",
        "def convert_data(path):\n",
        "  data = read_jsonl(path)\n",
        " \n",
        "  real_golds = [flat(t['gold_labels']) for t in data]\n",
        "  pred_golds = [flat(t['pred_labels']) for t in data]\n",
        "  paragraphs = [flat(t['paragraphs']) for t in data]\n",
        " \n",
        "  return pd.DataFrame(\n",
        "      {\n",
        "          'paragraphs': [join_paragraph(arr['paragraphs']) for arr in data],\n",
        "          'real_extractive': select_paragraph(real_golds, paragraphs),\n",
        "          'pred_extractive': select_paragraph(pred_golds, paragraphs),\n",
        "          'summary': [join_summary(arr['summary']) for arr in data]\n",
        "      }\n",
        "  )"
      ],
      "execution_count": 3,
      "outputs": []
    },
    {
      "cell_type": "code",
      "metadata": {
        "id": "OjMmmfiqqr4I"
      },
      "source": [
        "def preprocessing(text):\n",
        "  return re.sub(r'[^a-zA-Z0-9 ]', '', text.lower())\n",
        " \n",
        "def clean_first(text, clean):\n",
        "  for c in clean:\n",
        "    if text[:len(c)] == c:\n",
        "      return text[len(c):].strip()\n",
        "  return text\n",
        " \n",
        "def get_num(text, num):\n",
        "  arr = text.split()\n",
        "  return ' '.join(arr[:num])"
      ],
      "execution_count": 4,
      "outputs": []
    },
    {
      "cell_type": "markdown",
      "metadata": {
        "id": "YyVXXs-fQrvx"
      },
      "source": [
        "# Preprocessing"
      ]
    },
    {
      "cell_type": "code",
      "metadata": {
        "colab": {
          "base_uri": "https://localhost:8080/",
          "height": 204
        },
        "id": "6Yrvadyh8nBA",
        "outputId": "17756d3c-0dd3-436f-c5a3-f57821dd647e"
      },
      "source": [
        "lead_1 = pd.read_csv('/content/drive/MyDrive/Project/Data/Indosum/Extractive/Train/CSV/Lead/lead_1.csv')[['paragraphs', 'summary']]\n",
        "\n",
        "lead_1.head()"
      ],
      "execution_count": 5,
      "outputs": [
        {
          "output_type": "execute_result",
          "data": {
            "text/html": [
              "<div>\n",
              "<style scoped>\n",
              "    .dataframe tbody tr th:only-of-type {\n",
              "        vertical-align: middle;\n",
              "    }\n",
              "\n",
              "    .dataframe tbody tr th {\n",
              "        vertical-align: top;\n",
              "    }\n",
              "\n",
              "    .dataframe thead th {\n",
              "        text-align: right;\n",
              "    }\n",
              "</style>\n",
              "<table border=\"1\" class=\"dataframe\">\n",
              "  <thead>\n",
              "    <tr style=\"text-align: right;\">\n",
              "      <th></th>\n",
              "      <th>paragraphs</th>\n",
              "      <th>summary</th>\n",
              "    </tr>\n",
              "  </thead>\n",
              "  <tbody>\n",
              "    <tr>\n",
              "      <th>0</th>\n",
              "      <td>jakarta cnn indonesia dokter ryan thamrin yang...</td>\n",
              "      <td>Dokter Lula Kamal yang merupakan selebriti sek...</td>\n",
              "    </tr>\n",
              "    <tr>\n",
              "      <th>1</th>\n",
              "      <td>selfie ialah salah satu tema terpanas di kalan...</td>\n",
              "      <td>Asus memperkenalkan   ZenFone generasi keempat...</td>\n",
              "    </tr>\n",
              "    <tr>\n",
              "      <th>2</th>\n",
              "      <td>jakarta cnn indonesia dinas pariwisata provins...</td>\n",
              "      <td>Dinas Pariwisata Provinsi Bengkulu kembali men...</td>\n",
              "    </tr>\n",
              "    <tr>\n",
              "      <th>3</th>\n",
              "      <td>merdeka.com indonesia corruption watch icw mem...</td>\n",
              "      <td>Indonesia Corruption Watch ( ICW ) meminta Kom...</td>\n",
              "    </tr>\n",
              "    <tr>\n",
              "      <th>4</th>\n",
              "      <td>merdeka.com presiden joko widodo jokowi memimp...</td>\n",
              "      <td>Jokowi memimpin upacara penurunan bendera .\\nU...</td>\n",
              "    </tr>\n",
              "  </tbody>\n",
              "</table>\n",
              "</div>"
            ],
            "text/plain": [
              "                                          paragraphs                                            summary\n",
              "0  jakarta cnn indonesia dokter ryan thamrin yang...  Dokter Lula Kamal yang merupakan selebriti sek...\n",
              "1  selfie ialah salah satu tema terpanas di kalan...  Asus memperkenalkan   ZenFone generasi keempat...\n",
              "2  jakarta cnn indonesia dinas pariwisata provins...  Dinas Pariwisata Provinsi Bengkulu kembali men...\n",
              "3  merdeka.com indonesia corruption watch icw mem...  Indonesia Corruption Watch ( ICW ) meminta Kom...\n",
              "4  merdeka.com presiden joko widodo jokowi memimp...  Jokowi memimpin upacara penurunan bendera .\\nU..."
            ]
          },
          "metadata": {
            "tags": []
          },
          "execution_count": 5
        }
      ]
    },
    {
      "cell_type": "code",
      "metadata": {
        "id": "SZGChtXjQctC"
      },
      "source": [
        "clean = ['jakarta cnn indonesia', 'jakarta antara news', 'jakarta pos kota',\n",
        "         'juaranet kuala lumpur', 'bandung antara news', 'bandung cnn indonesia',\n",
        "         'surabaya antara news', 'palembang antara news', 'semarang antara news',\n",
        "         'makassar antara news', 'washington antara news', 'merdekacom', 'suaracom',\n",
        "         'rimanews', 'juaranet']"
      ],
      "execution_count": 6,
      "outputs": []
    },
    {
      "cell_type": "code",
      "metadata": {
        "id": "ZdC7hT-no3gQ"
      },
      "source": [
        "lead_1['paragraphs'] = lead_1['paragraphs'].apply(preprocessing).apply(lambda text: clean_first(text, clean))\n",
        "lead_1['summary'] = 'sostok _START_ ' + lead_1['summary'].apply(preprocessing) + ' _END_ eostok'"
      ],
      "execution_count": 7,
      "outputs": []
    },
    {
      "cell_type": "code",
      "metadata": {
        "id": "bZCigCnQr11L"
      },
      "source": [
        "token = Tokenizer(oov_token='<UNK/>')\n",
        "token.fit_on_texts(lead_1['paragraphs'])"
      ],
      "execution_count": 8,
      "outputs": []
    },
    {
      "cell_type": "code",
      "metadata": {
        "id": "dcHuB8IqsOSR"
      },
      "source": [
        "ext_max_len = max([\n",
        "                  len(text.split()) for text in lead_1['paragraphs']\n",
        "]) + 1\n",
        "\n",
        "sum_max_len = max([\n",
        "                  len(text.split()) for text in lead_1['summary']\n",
        "]) + 1"
      ],
      "execution_count": 9,
      "outputs": []
    },
    {
      "cell_type": "code",
      "metadata": {
        "id": "_hdz7ol0syVq"
      },
      "source": [
        "ext_token = token.texts_to_sequences(lead_1['paragraphs'])\n",
        "ext_token = pad_sequences(ext_token, ext_max_len, padding='post')\n",
        "\n",
        "summ_token = token.texts_to_sequences(lead_1['summary'])\n",
        "summ_token = pad_sequences(summ_token, sum_max_len, padding='post')"
      ],
      "execution_count": 10,
      "outputs": []
    },
    {
      "cell_type": "code",
      "metadata": {
        "colab": {
          "base_uri": "https://localhost:8080/"
        },
        "id": "opBjHnePMAlq",
        "outputId": "76bf41b0-8342-4def-9e2c-5e6842cbb040"
      },
      "source": [
        "voc = len(token.word_index) + 1\n",
        "voc"
      ],
      "execution_count": 11,
      "outputs": [
        {
          "output_type": "execute_result",
          "data": {
            "text/plain": [
              "264557"
            ]
          },
          "metadata": {
            "tags": []
          },
          "execution_count": 11
        }
      ]
    },
    {
      "cell_type": "code",
      "metadata": {
        "id": "erTsviSjyGA-"
      },
      "source": [
        "x_tr, x_val, y_tr, y_val = train_test_split(\n",
        "    np.array(ext_token),\n",
        "    np.array(summ_token),\n",
        "    test_size=0.1,\n",
        "    random_state=0,\n",
        "    shuffle=True,\n",
        ")"
      ],
      "execution_count": 12,
      "outputs": []
    },
    {
      "cell_type": "markdown",
      "metadata": {
        "id": "WjpORC1AuWhh"
      },
      "source": [
        "# Model"
      ]
    },
    {
      "cell_type": "code",
      "metadata": {
        "id": "kIOyef0EtDQq"
      },
      "source": [
        "\"\"\"\n",
        "Dataset | latent_dim  | embed_dim | lstm  | epochs  | result                    | repeat          | loss    | val_loss\n",
        "1       | 200         | 350       | 1     | 10      | joko widodo jokowi        | True (test)     | 3.5875  | 4.1893\n",
        "1       | 200         | 1500      | 1     | 10      | jokowi akan menggelar     | True (test)     | 3.2880  | 4.1336\n",
        "1       | 100         | 1000      | 1     | 10      | jokowi meminta maaf       | True (test)     | 3.8736  | 4.3531\n",
        "12      | 50          | 1000      | 1     | 10      | menteri luar negeri retno | True (test)     | 5.1530  | 5.0251\n",
        "1       | 100         | 200       | 1     | 10      | presiden joko widodo      | True            | 4.1352  | 4.4534\n",
        "1       | 10          | 200       | 1     | 10      | indonesia yang akan       | True            | 5.1676  | 5.2651\n",
        "1       | 250         | 350       | 1     | 10      | joko widodo jokowi        | True            | 3.5003  | 4.1754\n",
        "1       |`200         | 250       | 1     | 10      | widodo dan wakil gubernur | True            | 3.7220  | 4.2473\n",
        "1       | 100         | 350       | 1     | 10      | perhubungan budi karya    | True\n",
        "1       | 50          | 350       | 1     | 10      | jenderal jenderal hukum   | True            | 4.3861  | 4.6401\n",
        "\"\"\"\n",
        "\n",
        "latent_dim = 50 # 50\n",
        "embedding_dim = 100 # 50"
      ],
      "execution_count": 13,
      "outputs": []
    },
    {
      "cell_type": "markdown",
      "metadata": {
        "id": "yeBZEh2cuYS7"
      },
      "source": [
        "## Encoder"
      ]
    },
    {
      "cell_type": "code",
      "metadata": {
        "colab": {
          "base_uri": "https://localhost:8080/"
        },
        "id": "R5LoCN0StX8f",
        "outputId": "3644528c-cdbb-4be8-ba09-c476795f9281"
      },
      "source": [
        "# Encoder\n",
        "encoder_inputs = Input(shape=(ext_max_len, ))\n",
        "\n",
        "# Embedding layer\n",
        "enc_emb = Embedding(voc, embedding_dim,\n",
        "                    trainable=True)(encoder_inputs)\n",
        "\n",
        "# Encoder LSTM 1\n",
        "\"\"\"\n",
        "encoder_lstm1 = LSTM(latent_dim, return_sequences=True,\n",
        "                     return_state=True, dropout=0.4,\n",
        "                     recurrent_dropout=0.4)\n",
        "(encoder_output1, state_h1, state_c1) = encoder_lstm1(enc_emb)\n",
        "\n",
        "# Encoder LSTM 2\n",
        "encoder_lstm2 = LSTM(latent_dim, return_sequences=True,\n",
        "                     return_state=True, dropout=0.4,\n",
        "                     recurrent_dropout=0.4)\n",
        "(encoder_output2, state_h2, state_c2) = encoder_lstm2(enc_emb)\n",
        "\"\"\"\n",
        "# Encoder LSTM 3\n",
        "encoder_lstm3 = LSTM(latent_dim, return_state=True,\n",
        "                     return_sequences=True, dropout=0.4,\n",
        "                     recurrent_dropout=0.4) \n",
        "(encoder_outputs, state_h, state_c) = encoder_lstm3(enc_emb)"
      ],
      "execution_count": 14,
      "outputs": [
        {
          "output_type": "stream",
          "text": [
            "WARNING:tensorflow:Layer lstm will not use cuDNN kernels since it doesn't meet the criteria. It will use a generic GPU kernel as fallback when running on GPU.\n"
          ],
          "name": "stdout"
        }
      ]
    },
    {
      "cell_type": "markdown",
      "metadata": {
        "id": "JuXxRXpIuaIX"
      },
      "source": [
        "## Decoder"
      ]
    },
    {
      "cell_type": "code",
      "metadata": {
        "colab": {
          "base_uri": "https://localhost:8080/"
        },
        "id": "lH16bIBQteq8",
        "outputId": "85259ec3-4c81-449f-c034-ae93556a0328"
      },
      "source": [
        "# Set up the decoder, using encoder_states as the initial state\n",
        "decoder_inputs = Input(shape=(None, ))\n",
        "\n",
        "# Embedding layer\n",
        "dec_emb_layer = Embedding(voc, embedding_dim, trainable=True)\n",
        "dec_emb = dec_emb_layer(decoder_inputs)\n",
        "\n",
        "# Decoder LSTM\n",
        "decoder_lstm = LSTM(latent_dim, return_sequences=True,\n",
        "                    return_state=True, dropout=0.4,\n",
        "                    recurrent_dropout=0.2)\n",
        "(decoder_outputs, decoder_fwd_state, decoder_back_state) = decoder_lstm(dec_emb, initial_state=[state_h, state_c])\n",
        "\n",
        "decoder_dense = TimeDistributed(Dense(voc, activation='softmax'))\n",
        "decoder_outputs = decoder_dense(decoder_outputs)\n",
        "\n",
        "# Define the model\n",
        "model = Model([encoder_inputs, decoder_inputs], decoder_outputs)\n",
        "\n",
        "model.summary()"
      ],
      "execution_count": 15,
      "outputs": [
        {
          "output_type": "stream",
          "text": [
            "WARNING:tensorflow:Layer lstm_1 will not use cuDNN kernels since it doesn't meet the criteria. It will use a generic GPU kernel as fallback when running on GPU.\n",
            "Model: \"model\"\n",
            "__________________________________________________________________________________________________\n",
            "Layer (type)                    Output Shape         Param #     Connected to                     \n",
            "==================================================================================================\n",
            "input_1 (InputLayer)            [(None, 1163)]       0                                            \n",
            "__________________________________________________________________________________________________\n",
            "input_2 (InputLayer)            [(None, None)]       0                                            \n",
            "__________________________________________________________________________________________________\n",
            "embedding (Embedding)           (None, 1163, 100)    26455700    input_1[0][0]                    \n",
            "__________________________________________________________________________________________________\n",
            "embedding_1 (Embedding)         (None, None, 100)    26455700    input_2[0][0]                    \n",
            "__________________________________________________________________________________________________\n",
            "lstm (LSTM)                     [(None, 1163, 50), ( 30200       embedding[0][0]                  \n",
            "__________________________________________________________________________________________________\n",
            "lstm_1 (LSTM)                   [(None, None, 50), ( 30200       embedding_1[0][0]                \n",
            "                                                                 lstm[0][1]                       \n",
            "                                                                 lstm[0][2]                       \n",
            "__________________________________________________________________________________________________\n",
            "time_distributed (TimeDistribut (None, None, 264557) 13492407    lstm_1[0][0]                     \n",
            "==================================================================================================\n",
            "Total params: 66,464,207\n",
            "Trainable params: 66,464,207\n",
            "Non-trainable params: 0\n",
            "__________________________________________________________________________________________________\n"
          ],
          "name": "stdout"
        }
      ]
    },
    {
      "cell_type": "markdown",
      "metadata": {
        "id": "Tbb8Tcew5hkA"
      },
      "source": [
        "## Compile"
      ]
    },
    {
      "cell_type": "code",
      "metadata": {
        "colab": {
          "base_uri": "https://localhost:8080/",
          "height": 466
        },
        "id": "HiSO0V9k5kOd",
        "outputId": "6f57560f-f3e4-4ca3-9f7b-20ccf4b280d0"
      },
      "source": [
        "model.compile(optimizer='adam', loss='sparse_categorical_crossentropy')\n",
        "plot_model(model)"
      ],
      "execution_count": 16,
      "outputs": [
        {
          "output_type": "execute_result",
          "data": {
            "image/png": "[encoded data removed]",
            "text/plain": [
              "<IPython.core.display.Image object>"
            ]
          },
          "metadata": {
            "tags": []
          },
          "execution_count": 16
        }
      ]
    },
    {
      "cell_type": "markdown",
      "metadata": {
        "id": "TFJw-x0JO7SV"
      },
      "source": [
        "## Train"
      ]
    },
    {
      "cell_type": "code",
      "metadata": {
        "colab": {
          "base_uri": "https://localhost:8080/"
        },
        "id": "AItCiQkjyCXo",
        "outputId": "ac6d5c33-2916-4f22-a7c9-dc5d30629148"
      },
      "source": [
        "history = model.fit(\n",
        "    [x_tr, y_tr[:, :-1]],\n",
        "    y_tr.reshape(y_tr.shape[0], y_tr.shape[1], 1)[:, 1:],\n",
        "    epochs=6,\n",
        "    validation_data=([x_val, y_val[:, :-1]],\n",
        "                     y_val.reshape(y_val.shape[0], y_val.shape[1], 1)[:\n",
        "                     , 1:]),\n",
        "    )"
      ],
      "execution_count": null,
      "outputs": [
        {
          "output_type": "stream",
          "text": [
            "Epoch 1/6\n",
            "402/402 [==============================] - 2322s 6s/step - loss: 6.9272 - val_loss: 5.6304\n",
            "Epoch 2/6\n",
            " 22/402 [>.............................] - ETA: 35:59 - loss: 5.5617"
          ],
          "name": "stdout"
        }
      ]
    },
    {
      "cell_type": "code",
      "metadata": {
        "id": "9YgSIISQLUsd"
      },
      "source": [
        "pd.DataFrame(history.history).to_csv('./history_lead.csv', index=False)\n",
        "fname = '/content/drive/MyDrive/Project/Model/Indosum/Abstractive/history_{}.csv'\n",
        "code_history = 1\n",
        "exists = os.path.isfile(fname.format(''))\n",
        "while exists:\n",
        "  code_history = code_history + 1\n",
        "  exists = os.path.isfile(fname.format(code_history))\n",
        "  print(exists, fname.format(code_history))\n",
        "\n",
        "pd.DataFrame(history.history).to_csv(fname.format(code_history), index=False)"
      ],
      "execution_count": null,
      "outputs": []
    },
    {
      "cell_type": "markdown",
      "metadata": {
        "id": "72tJsSn7w2LT"
      },
      "source": [
        "## Encoder Decoder Inference"
      ]
    },
    {
      "cell_type": "code",
      "metadata": {
        "id": "tHxDcSa7OL-k"
      },
      "source": [
        "encoder_model = Model(inputs=encoder_inputs, outputs=[encoder_outputs,\n",
        "                      state_h, state_c])\n",
        " \n",
        " \n",
        "decoder_state_input_h = Input(shape=(latent_dim, ))\n",
        "decoder_state_input_c = Input(shape=(latent_dim, ))\n",
        "decoder_hidden_state_input = Input(shape=(ext_max_len, latent_dim))\n",
        " \n",
        "dec_emb2 = dec_emb_layer(decoder_inputs)\n",
        " \n",
        "(decoder_outputs2, state_h2, state_c2) = decoder_lstm(dec_emb2,\n",
        "        initial_state=[decoder_state_input_h, decoder_state_input_c])\n",
        " \n",
        "decoder_outputs2 = decoder_dense(decoder_outputs2)\n",
        " \n",
        "decoder_model = Model([decoder_inputs] + [decoder_hidden_state_input, decoder_state_input_h, decoder_state_input_c],\n",
        "                      [decoder_outputs2] + [state_h2, state_c2])"
      ],
      "execution_count": null,
      "outputs": []
    },
    {
      "cell_type": "markdown",
      "metadata": {
        "id": "iDONzKe3xOEa"
      },
      "source": [
        "## Save Model"
      ]
    },
    {
      "cell_type": "code",
      "metadata": {
        "id": "NRO9LIHD963w"
      },
      "source": [
        "model.save_weights('/content/drive/MyDrive/Project/Model/Indosum/Abstractive/Train/train') \n",
        "encoder_model.save_weights('/content/drive/MyDrive/Project/Model/Indosum/Abstractive/Encoder/encoder')\n",
        "decoder_model.save_weights('/content/drive/MyDrive/Project/Model/Indosum/Abstractive/Decoder/decoder')"
      ],
      "execution_count": null,
      "outputs": []
    },
    {
      "cell_type": "markdown",
      "metadata": {
        "id": "-aF3xj-oxQ_y"
      },
      "source": [
        "## Load Model"
      ]
    },
    {
      "cell_type": "code",
      "metadata": {
        "id": "JDFuw0OlxbxD"
      },
      "source": [
        "model.load_weights('/content/drive/MyDrive/Project/Model/Indosum/Extractive-Abstractive/Lead/Train/train')\n",
        "encoder_model.load_weights('/content/drive/MyDrive/Project/Model/Indosum/Extractive-Abstractive/Lead/Encoder/encoder')\n",
        "decoder_model.load_weights('/content/drive/MyDrive/Project/Model/Indosum/Extractive-Abstractive/Lead/Decoder/decoder')"
      ],
      "execution_count": null,
      "outputs": []
    },
    {
      "cell_type": "markdown",
      "metadata": {
        "id": "h1OArsRPORja"
      },
      "source": [
        "# Predict"
      ]
    },
    {
      "cell_type": "code",
      "metadata": {
        "id": "fzNaGo7R-sFu"
      },
      "source": [
        "reverse_target_word_index = token.index_word\n",
        "reverse_source_word_index = token.index_word\n",
        "target_word_index = token.word_index"
      ],
      "execution_count": null,
      "outputs": []
    },
    {
      "cell_type": "code",
      "metadata": {
        "id": "igKY-uny-s9n"
      },
      "source": [
        "def decode_sequence(input_seq):\n",
        "\n",
        "    (e_out, e_h, e_c) = encoder_model.predict(input_seq)\n",
        "    target_seq = np.zeros((1, 1))\n",
        "\n",
        "    target_seq[0, 0] = target_word_index['sostok']\n",
        "\n",
        "    stop_condition = False\n",
        "    decoded_sentence = ''\n",
        "\n",
        "    while not stop_condition:\n",
        "        (output_tokens, h, c) = decoder_model.predict([target_seq]\n",
        "                + [e_out, e_h, e_c])\n",
        "        sampled_token_index = np.argmax(output_tokens[0, -1, :])\n",
        "        sampled_token = reverse_target_word_index[sampled_token_index]\n",
        "        if sampled_token != 'eostok':\n",
        "            decoded_sentence += ' ' + sampled_token\n",
        "\n",
        "        if sampled_token == 'eostok' or len(decoded_sentence.split()) \\\n",
        "            >= ext_max_len  - 1:\n",
        "            stop_condition = True\n",
        "\n",
        "        target_seq = np.zeros((1, 1))\n",
        "        target_seq[0, 0] = sampled_token_index\n",
        "\n",
        "        (e_h, e_c) = (h, c)\n",
        "\n",
        "    return decoded_sentence"
      ],
      "execution_count": null,
      "outputs": []
    },
    {
      "cell_type": "code",
      "metadata": {
        "id": "bKP2WpdU-wkC"
      },
      "source": [
        "def seq2summary(input_seq):\n",
        "    newString = ''\n",
        "    for i in input_seq:\n",
        "        if i != 0 and i != target_word_index['sostok'] and i \\\n",
        "            != target_word_index['eostok']:\n",
        "            newString = newString + reverse_target_word_index[i] + ' '\n",
        "\n",
        "    return newString\n",
        "\n",
        "\n",
        "def seq2text(input_seq):\n",
        "    newString = ''\n",
        "    for i in input_seq:\n",
        "        if i != 0:\n",
        "            newString = newString + reverse_source_word_index[i] + ' '\n",
        "\n",
        "    return newString"
      ],
      "execution_count": null,
      "outputs": []
    },
    {
      "cell_type": "markdown",
      "metadata": {
        "id": "fLXE-qRGwUjM"
      },
      "source": [
        "# Result"
      ]
    },
    {
      "cell_type": "code",
      "metadata": {
        "id": "t9QfKGIYDoPR"
      },
      "source": [
        "import time\n",
        "start = time.time()\n",
        "for i in range(0, 10):\n",
        "    print ('Review:', seq2text(x_tr[i]))\n",
        "    print ('Original summary:', seq2summary(y_tr[i]))\n",
        "    print ('Predicted summary:', decode_sequence(x_tr[i].reshape(1,\n",
        "           ext_max_len)))\n",
        "    print('---------------------------------------------------------------------')\n",
        "time.time() -start"
      ],
      "execution_count": null,
      "outputs": []
    },
    {
      "cell_type": "code",
      "metadata": {
        "id": "C2EXa-R8Qmc0"
      },
      "source": [
        "x_tr.shape"
      ],
      "execution_count": null,
      "outputs": []
    },
    {
      "cell_type": "code",
      "metadata": {
        "id": "cDPpkPgw-zQf"
      },
      "source": [
        "for i in range(0, 10):\n",
        "    print ('Review:', seq2text(x_val[i]))\n",
        "    print ('Original summary:', seq2summary(y_val[i]))\n",
        "    print ('Predicted summary:', decode_sequence(x_val[i].reshape(1,\n",
        "           ext_max_len)))\n",
        "    print('---------------------------------------------------------------------')\n"
      ],
      "execution_count": null,
      "outputs": []
    }
  ]
}