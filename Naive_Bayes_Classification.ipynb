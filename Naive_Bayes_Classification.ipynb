{
  "nbformat": 4,
  "nbformat_minor": 0,
  "metadata": {
    "colab": {
      "name": "Naive Bayes Classification",
      "provenance": [],
      "include_colab_link": true
    },
    "kernelspec": {
      "name": "python3",
      "display_name": "Python 3"
    }
  },
  "cells": [
    {
      "cell_type": "markdown",
      "metadata": {
        "id": "view-in-github",
        "colab_type": "text"
      },
      "source": [
        "<a href=\"https://colab.research.google.com/github/tarangga/Machine-Learning/blob/main/Naive_Bayes_Classification.ipynb\" target=\"_parent\"><img src=\"https://colab.research.google.com/assets/colab-badge.svg\" alt=\"Open In Colab\"/></a>"
      ]
    },
    {
      "cell_type": "code",
      "metadata": {
        "id": "4fhjqD6c9V2L"
      },
      "source": [
        "from os import listdir\n",
        "import pandas as pd\n",
        "import re\n",
        "import matplotlib.pyplot as plt\n",
        "import numpy as np\n"
      ],
      "execution_count": null,
      "outputs": []
    },
    {
      "cell_type": "code",
      "metadata": {
        "id": "I2n3ZqZA-LNJ",
        "colab": {
          "base_uri": "https://localhost:8080/"
        },
        "outputId": "0b3baf63-5e52-46d3-a2b4-b7b23ab5e856"
      },
      "source": [
        "list_df = []\n",
        "for p in listdir('/content/drive/MyDrive/Colab Data/Clickbait Headlines - CLICK-ID/annotated/csv'):\n",
        "  source = re.search('_(.+).csv', p).group(1)\n",
        "  df = pd.read_csv('/content/drive/MyDrive/Colab Data/Clickbait Headlines - CLICK-ID/annotated/csv/' + p)\n",
        "  df['source'] = source\n",
        "  list_df.append(df)\n",
        "\n",
        "all_df = pd.concat(list_df)\n",
        "print(all_df.iloc[0])\n",
        "del all_df['label']\n",
        "all_df.dropna(inplace=True)\n",
        "all_df.shape"
      ],
      "execution_count": null,
      "outputs": [
        {
          "output_type": "stream",
          "text": [
            "title          Prediksi Susunan Pemain Timnas Inggris vs Koso...\n",
            "label                                              non-clickbait\n",
            "label_score                                                    0\n",
            "source                                                tribunnews\n",
            "Name: 0, dtype: object\n"
          ],
          "name": "stdout"
        },
        {
          "output_type": "execute_result",
          "data": {
            "text/plain": [
              "(14999, 3)"
            ]
          },
          "metadata": {
            "tags": []
          },
          "execution_count": 25
        }
      ]
    },
    {
      "cell_type": "code",
      "metadata": {
        "colab": {
          "base_uri": "https://localhost:8080/",
          "height": 142
        },
        "id": "cQ58HJ0uOipH",
        "outputId": "59beb7b7-ea09-466f-b8c4-990dc33ddeab"
      },
      "source": [
        "all_df.groupby(['label_score']).count()"
      ],
      "execution_count": null,
      "outputs": [
        {
          "output_type": "execute_result",
          "data": {
            "text/html": [
              "<div>\n",
              "<style scoped>\n",
              "    .dataframe tbody tr th:only-of-type {\n",
              "        vertical-align: middle;\n",
              "    }\n",
              "\n",
              "    .dataframe tbody tr th {\n",
              "        vertical-align: top;\n",
              "    }\n",
              "\n",
              "    .dataframe thead th {\n",
              "        text-align: right;\n",
              "    }\n",
              "</style>\n",
              "<table border=\"1\" class=\"dataframe\">\n",
              "  <thead>\n",
              "    <tr style=\"text-align: right;\">\n",
              "      <th></th>\n",
              "      <th>title</th>\n",
              "      <th>source</th>\n",
              "    </tr>\n",
              "    <tr>\n",
              "      <th>label_score</th>\n",
              "      <th></th>\n",
              "      <th></th>\n",
              "    </tr>\n",
              "  </thead>\n",
              "  <tbody>\n",
              "    <tr>\n",
              "      <th>0</th>\n",
              "      <td>8709</td>\n",
              "      <td>8709</td>\n",
              "    </tr>\n",
              "    <tr>\n",
              "      <th>1</th>\n",
              "      <td>6290</td>\n",
              "      <td>6290</td>\n",
              "    </tr>\n",
              "  </tbody>\n",
              "</table>\n",
              "</div>"
            ],
            "text/plain": [
              "             title  source\n",
              "label_score               \n",
              "0             8709    8709\n",
              "1             6290    6290"
            ]
          },
          "metadata": {
            "tags": []
          },
          "execution_count": 26
        }
      ]
    },
    {
      "cell_type": "code",
      "metadata": {
        "colab": {
          "base_uri": "https://localhost:8080/",
          "height": 824
        },
        "id": "fe9iS7z62ikg",
        "outputId": "bf4dc1b3-a3a8-48c1-d119-459ca314b592"
      },
      "source": [
        "data = all_df.groupby(['label_score', 'source']).count()\n",
        "data"
      ],
      "execution_count": null,
      "outputs": [
        {
          "output_type": "execute_result",
          "data": {
            "text/html": [
              "<div>\n",
              "<style scoped>\n",
              "    .dataframe tbody tr th:only-of-type {\n",
              "        vertical-align: middle;\n",
              "    }\n",
              "\n",
              "    .dataframe tbody tr th {\n",
              "        vertical-align: top;\n",
              "    }\n",
              "\n",
              "    .dataframe thead th {\n",
              "        text-align: right;\n",
              "    }\n",
              "</style>\n",
              "<table border=\"1\" class=\"dataframe\">\n",
              "  <thead>\n",
              "    <tr style=\"text-align: right;\">\n",
              "      <th></th>\n",
              "      <th></th>\n",
              "      <th>title</th>\n",
              "    </tr>\n",
              "    <tr>\n",
              "      <th>label_score</th>\n",
              "      <th>source</th>\n",
              "      <th></th>\n",
              "    </tr>\n",
              "  </thead>\n",
              "  <tbody>\n",
              "    <tr>\n",
              "      <th rowspan=\"12\" valign=\"top\">0</th>\n",
              "      <th>detikNews</th>\n",
              "      <td>890</td>\n",
              "    </tr>\n",
              "    <tr>\n",
              "      <th>fimela</th>\n",
              "      <td>306</td>\n",
              "    </tr>\n",
              "    <tr>\n",
              "      <th>kapanlagi</th>\n",
              "      <td>603</td>\n",
              "    </tr>\n",
              "    <tr>\n",
              "      <th>kompas</th>\n",
              "      <td>1157</td>\n",
              "    </tr>\n",
              "    <tr>\n",
              "      <th>liputan6</th>\n",
              "      <td>613</td>\n",
              "    </tr>\n",
              "    <tr>\n",
              "      <th>okezone</th>\n",
              "      <td>741</td>\n",
              "    </tr>\n",
              "    <tr>\n",
              "      <th>pos_metro</th>\n",
              "      <td>71</td>\n",
              "    </tr>\n",
              "    <tr>\n",
              "      <th>republika</th>\n",
              "      <td>1267</td>\n",
              "    </tr>\n",
              "    <tr>\n",
              "      <th>sindonews</th>\n",
              "      <td>1214</td>\n",
              "    </tr>\n",
              "    <tr>\n",
              "      <th>tempo</th>\n",
              "      <td>1118</td>\n",
              "    </tr>\n",
              "    <tr>\n",
              "      <th>tribunnews</th>\n",
              "      <td>451</td>\n",
              "    </tr>\n",
              "    <tr>\n",
              "      <th>wowkeren</th>\n",
              "      <td>278</td>\n",
              "    </tr>\n",
              "    <tr>\n",
              "      <th rowspan=\"12\" valign=\"top\">1</th>\n",
              "      <th>detikNews</th>\n",
              "      <td>110</td>\n",
              "    </tr>\n",
              "    <tr>\n",
              "      <th>fimela</th>\n",
              "      <td>394</td>\n",
              "    </tr>\n",
              "    <tr>\n",
              "      <th>kapanlagi</th>\n",
              "      <td>397</td>\n",
              "    </tr>\n",
              "    <tr>\n",
              "      <th>kompas</th>\n",
              "      <td>343</td>\n",
              "    </tr>\n",
              "    <tr>\n",
              "      <th>liputan6</th>\n",
              "      <td>887</td>\n",
              "    </tr>\n",
              "    <tr>\n",
              "      <th>okezone</th>\n",
              "      <td>759</td>\n",
              "    </tr>\n",
              "    <tr>\n",
              "      <th>pos_metro</th>\n",
              "      <td>229</td>\n",
              "    </tr>\n",
              "    <tr>\n",
              "      <th>republika</th>\n",
              "      <td>233</td>\n",
              "    </tr>\n",
              "    <tr>\n",
              "      <th>sindonews</th>\n",
              "      <td>285</td>\n",
              "    </tr>\n",
              "    <tr>\n",
              "      <th>tempo</th>\n",
              "      <td>382</td>\n",
              "    </tr>\n",
              "    <tr>\n",
              "      <th>tribunnews</th>\n",
              "      <td>1049</td>\n",
              "    </tr>\n",
              "    <tr>\n",
              "      <th>wowkeren</th>\n",
              "      <td>1222</td>\n",
              "    </tr>\n",
              "  </tbody>\n",
              "</table>\n",
              "</div>"
            ],
            "text/plain": [
              "                        title\n",
              "label_score source           \n",
              "0           detikNews     890\n",
              "            fimela        306\n",
              "            kapanlagi     603\n",
              "            kompas       1157\n",
              "            liputan6      613\n",
              "            okezone       741\n",
              "            pos_metro      71\n",
              "            republika    1267\n",
              "            sindonews    1214\n",
              "            tempo        1118\n",
              "            tribunnews    451\n",
              "            wowkeren      278\n",
              "1           detikNews     110\n",
              "            fimela        394\n",
              "            kapanlagi     397\n",
              "            kompas        343\n",
              "            liputan6      887\n",
              "            okezone       759\n",
              "            pos_metro     229\n",
              "            republika     233\n",
              "            sindonews     285\n",
              "            tempo         382\n",
              "            tribunnews   1049\n",
              "            wowkeren     1222"
            ]
          },
          "metadata": {
            "tags": []
          },
          "execution_count": 27
        }
      ]
    },
    {
      "cell_type": "code",
      "metadata": {
        "colab": {
          "base_uri": "https://localhost:8080/"
        },
        "id": "ik-AAb7wvLqO",
        "outputId": "bf08b440-8a1a-43b3-903c-1f75e2c872dd"
      },
      "source": [
        "l_dict"
      ],
      "execution_count": null,
      "outputs": [
        {
          "output_type": "execute_result",
          "data": {
            "text/plain": [
              "{(0, 'detikNews'): 890,\n",
              " (0, 'fimela'): 306,\n",
              " (0, 'kapanlagi'): 603,\n",
              " (0, 'kompas'): 1157,\n",
              " (0, 'liputan6'): 613,\n",
              " (0, 'okezone'): 741,\n",
              " (0, 'pos_metro'): 71,\n",
              " (0, 'republika'): 1267,\n",
              " (0, 'sindonews'): 1214,\n",
              " (0, 'tempo'): 1118,\n",
              " (0, 'tribunnews'): 451,\n",
              " (0, 'wowkeren'): 278,\n",
              " (1, 'detikNews'): 110,\n",
              " (1, 'fimela'): 394,\n",
              " (1, 'kapanlagi'): 397,\n",
              " (1, 'kompas'): 343,\n",
              " (1, 'liputan6'): 887,\n",
              " (1, 'okezone'): 759,\n",
              " (1, 'pos_metro'): 229,\n",
              " (1, 'republika'): 233,\n",
              " (1, 'sindonews'): 285,\n",
              " (1, 'tempo'): 382,\n",
              " (1, 'tribunnews'): 1049,\n",
              " (1, 'wowkeren'): 1222}"
            ]
          },
          "metadata": {
            "tags": []
          },
          "execution_count": 28
        }
      ]
    },
    {
      "cell_type": "code",
      "metadata": {
        "id": "NGNCY9rXZek8"
      },
      "source": [
        "l_dict = dict(data['title'])\n",
        "data_0 = []\n",
        "data_1 = []\n",
        "src = list(all_df['source'].unique())\n",
        "for c in src:\n",
        "  data_0.append(l_dict[(0, c)])\n",
        "  data_1.append(l_dict[(1, c)])"
      ],
      "execution_count": null,
      "outputs": []
    },
    {
      "cell_type": "code",
      "metadata": {
        "colab": {
          "base_uri": "https://localhost:8080/",
          "height": 624
        },
        "id": "Fk8Rob8EzzqG",
        "outputId": "aff33709-3ed7-4e1e-c559-2450ebdd054b"
      },
      "source": [
        "X = np.arange(len(src))\n",
        "fig = plt.figure()\n",
        "ax = fig.add_axes([0,0,2,2])\n",
        "ax.bar(X - 0.1, data_0, color = 'b', width = 0.2)\n",
        "ax.bar(X + 0.1, data_1, color = 'r', width = 0.2)\n",
        "plt.xticks(X, src)\n",
        "plt.show()\n"
      ],
      "execution_count": null,
      "outputs": [
        {
          "output_type": "display_data",
          "data": {
            "image/png": "[encoded data removed]",
            "text/plain": [
              "<Figure size 432x288 with 1 Axes>"
            ]
          },
          "metadata": {
            "tags": [],
            "needs_background": "light"
          }
        }
      ]
    },
    {
      "cell_type": "code",
      "metadata": {
        "id": "BbWyU4tsTM57"
      },
      "source": [
        "from sklearn.model_selection import train_test_split\n",
        "import spacy\n",
        "from spacy.lang.id.stop_words import STOP_WORDS\n",
        "from sklearn.feature_extraction.text import TfidfVectorizer, CountVectorizer\n",
        "from sklearn.pipeline import make_pipeline\n",
        "from sklearn.naive_bayes import MultinomialNB\n",
        "from sklearn.model_selection import cross_val_score, KFold"
      ],
      "execution_count": null,
      "outputs": []
    },
    {
      "cell_type": "code",
      "metadata": {
        "colab": {
          "base_uri": "https://localhost:8080/"
        },
        "id": "cQCsgTcxU8dr",
        "outputId": "24b36091-fc8c-47b8-f5a7-1be5074603e2"
      },
      "source": [
        "vect = TfidfVectorizer(stop_words=STOP_WORDS)\n",
        "x = vect.fit_transform(all_df['title'])"
      ],
      "execution_count": null,
      "outputs": [
        {
          "output_type": "stream",
          "text": [
            "/usr/local/lib/python3.7/dist-packages/sklearn/feature_extraction/text.py:385: UserWarning: Your stop_words may be inconsistent with your preprocessing. Tokenizing the stop words generated tokens ['baiknya', 'berkali', 'kali', 'kurangnya', 'mata', 'olah', 'sekurang', 'setidak', 'tama', 'tidaknya'] not in stop_words.\n",
            "  'stop_words.' % sorted(inconsistent))\n"
          ],
          "name": "stderr"
        }
      ]
    },
    {
      "cell_type": "code",
      "metadata": {
        "id": "-SftSBUmWuw0"
      },
      "source": [
        "x_train, x_test, y_train, y_test = train_test_split(x, all_df['label_score'], test_size = 0.3)"
      ],
      "execution_count": null,
      "outputs": []
    },
    {
      "cell_type": "code",
      "metadata": {
        "colab": {
          "base_uri": "https://localhost:8080/"
        },
        "id": "lfkUEwnMVzc4",
        "outputId": "c45dd48b-23a3-46d8-acf9-65bb0b0e01ca"
      },
      "source": [
        "model = MultinomialNB()\n",
        "k_fold = KFold(8)\n",
        "acc = []\n",
        "y = all_df['label_score']\n",
        "for train, test in k_fold.split(x):\n",
        "  model.fit(x[train], y.iloc[train])\n",
        "  acc.append(model.score(x[test], y.iloc[test]))\n",
        "print(acc.index(max(acc)), max(acc))"
      ],
      "execution_count": null,
      "outputs": [
        {
          "output_type": "stream",
          "text": [
            "6 0.8229333333333333\n"
          ],
          "name": "stdout"
        }
      ]
    },
    {
      "cell_type": "code",
      "metadata": {
        "colab": {
          "base_uri": "https://localhost:8080/"
        },
        "id": "gnzaJCGG857S",
        "outputId": "4a170caa-85a7-4306-d83f-4cbc0b1560e7"
      },
      "source": [
        "train, test = list(k_fold.split(x))[acc.index(max(acc))]\n",
        "model.fit(x[train], y.iloc[train])\n",
        "print(model.score(x[test], y.iloc[test]))\n",
        "pred_MNB = model.predict(x[test])\n",
        "sum(pred_MNB == y.iloc[test])/len(pred_MNB)"
      ],
      "execution_count": null,
      "outputs": [
        {
          "output_type": "stream",
          "text": [
            "0.8229333333333333\n"
          ],
          "name": "stdout"
        },
        {
          "output_type": "execute_result",
          "data": {
            "text/plain": [
              "0.8229333333333333"
            ]
          },
          "metadata": {
            "tags": []
          },
          "execution_count": 52
        }
      ]
    },
    {
      "cell_type": "code",
      "metadata": {
        "colab": {
          "base_uri": "https://localhost:8080/",
          "height": 111
        },
        "id": "PD14PcYFyjx3",
        "outputId": "ea96387d-6be2-4d70-83da-d3d858f67ad4"
      },
      "source": [
        "prob_df = all_df.iloc[train]\n",
        "prob_df.head(2)"
      ],
      "execution_count": null,
      "outputs": [
        {
          "output_type": "execute_result",
          "data": {
            "text/html": [
              "<div>\n",
              "<style scoped>\n",
              "    .dataframe tbody tr th:only-of-type {\n",
              "        vertical-align: middle;\n",
              "    }\n",
              "\n",
              "    .dataframe tbody tr th {\n",
              "        vertical-align: top;\n",
              "    }\n",
              "\n",
              "    .dataframe thead th {\n",
              "        text-align: right;\n",
              "    }\n",
              "</style>\n",
              "<table border=\"1\" class=\"dataframe\">\n",
              "  <thead>\n",
              "    <tr style=\"text-align: right;\">\n",
              "      <th></th>\n",
              "      <th>title</th>\n",
              "      <th>label_score</th>\n",
              "      <th>source</th>\n",
              "    </tr>\n",
              "  </thead>\n",
              "  <tbody>\n",
              "    <tr>\n",
              "      <th>0</th>\n",
              "      <td>Prediksi Susunan Pemain Timnas Inggris vs Koso...</td>\n",
              "      <td>0</td>\n",
              "      <td>tribunnews</td>\n",
              "    </tr>\n",
              "    <tr>\n",
              "      <th>1</th>\n",
              "      <td>Ambil Formulir Pilkada Tangsel dari PDI-P, Sit...</td>\n",
              "      <td>0</td>\n",
              "      <td>tribunnews</td>\n",
              "    </tr>\n",
              "  </tbody>\n",
              "</table>\n",
              "</div>"
            ],
            "text/plain": [
              "                                               title  label_score      source\n",
              "0  Prediksi Susunan Pemain Timnas Inggris vs Koso...            0  tribunnews\n",
              "1  Ambil Formulir Pilkada Tangsel dari PDI-P, Sit...            0  tribunnews"
            ]
          },
          "metadata": {
            "tags": []
          },
          "execution_count": 49
        }
      ]
    },
    {
      "cell_type": "code",
      "metadata": {
        "colab": {
          "base_uri": "https://localhost:8080/"
        },
        "id": "rv7snSEx1C2W",
        "outputId": "69a3bcbb-6c0e-47ec-d61e-96dd64f628f4"
      },
      "source": [
        "len(pred_pMNB)"
      ],
      "execution_count": null,
      "outputs": [
        {
          "output_type": "execute_result",
          "data": {
            "text/plain": [
              "1875"
            ]
          },
          "metadata": {
            "tags": []
          },
          "execution_count": 56
        }
      ]
    },
    {
      "cell_type": "code",
      "metadata": {
        "colab": {
          "base_uri": "https://localhost:8080/",
          "height": 623
        },
        "id": "up-ndrPBze3S",
        "outputId": "585f0247-f1cb-4624-e4da-0c9e1cfd0d12"
      },
      "source": [
        "pred_pMNB = model.predict_proba(x[train])\n",
        "prob_df['prob_false'] = [p[0] for p in pred_pMNB]\n",
        "prob_df['prob_true'] = [p[1] for p in pred_pMNB]\n",
        "prob_df"
      ],
      "execution_count": null,
      "outputs": [
        {
          "output_type": "stream",
          "text": [
            "/usr/local/lib/python3.7/dist-packages/ipykernel_launcher.py:2: SettingWithCopyWarning: \n",
            "A value is trying to be set on a copy of a slice from a DataFrame.\n",
            "Try using .loc[row_indexer,col_indexer] = value instead\n",
            "\n",
            "See the caveats in the documentation: https://pandas.pydata.org/pandas-docs/stable/user_guide/indexing.html#returning-a-view-versus-a-copy\n",
            "  \n",
            "/usr/local/lib/python3.7/dist-packages/ipykernel_launcher.py:3: SettingWithCopyWarning: \n",
            "A value is trying to be set on a copy of a slice from a DataFrame.\n",
            "Try using .loc[row_indexer,col_indexer] = value instead\n",
            "\n",
            "See the caveats in the documentation: https://pandas.pydata.org/pandas-docs/stable/user_guide/indexing.html#returning-a-view-versus-a-copy\n",
            "  This is separate from the ipykernel package so we can avoid doing imports until\n"
          ],
          "name": "stderr"
        },
        {
          "output_type": "execute_result",
          "data": {
            "text/html": [
              "<div>\n",
              "<style scoped>\n",
              "    .dataframe tbody tr th:only-of-type {\n",
              "        vertical-align: middle;\n",
              "    }\n",
              "\n",
              "    .dataframe tbody tr th {\n",
              "        vertical-align: top;\n",
              "    }\n",
              "\n",
              "    .dataframe thead th {\n",
              "        text-align: right;\n",
              "    }\n",
              "</style>\n",
              "<table border=\"1\" class=\"dataframe\">\n",
              "  <thead>\n",
              "    <tr style=\"text-align: right;\">\n",
              "      <th></th>\n",
              "      <th>title</th>\n",
              "      <th>label_score</th>\n",
              "      <th>source</th>\n",
              "      <th>prob_false</th>\n",
              "      <th>prob_true</th>\n",
              "    </tr>\n",
              "  </thead>\n",
              "  <tbody>\n",
              "    <tr>\n",
              "      <th>0</th>\n",
              "      <td>Prediksi Susunan Pemain Timnas Inggris vs Koso...</td>\n",
              "      <td>0</td>\n",
              "      <td>tribunnews</td>\n",
              "      <td>0.897919</td>\n",
              "      <td>0.102081</td>\n",
              "    </tr>\n",
              "    <tr>\n",
              "      <th>1</th>\n",
              "      <td>Ambil Formulir Pilkada Tangsel dari PDI-P, Sit...</td>\n",
              "      <td>0</td>\n",
              "      <td>tribunnews</td>\n",
              "      <td>0.745835</td>\n",
              "      <td>0.254165</td>\n",
              "    </tr>\n",
              "    <tr>\n",
              "      <th>2</th>\n",
              "      <td>Mulan Jameela Mantan Duet Maia Estianty Rela M...</td>\n",
              "      <td>1</td>\n",
              "      <td>tribunnews</td>\n",
              "      <td>0.128843</td>\n",
              "      <td>0.871157</td>\n",
              "    </tr>\n",
              "    <tr>\n",
              "      <th>3</th>\n",
              "      <td>Dukung Operasional Bandara Internasional Kerta...</td>\n",
              "      <td>0</td>\n",
              "      <td>tribunnews</td>\n",
              "      <td>0.923483</td>\n",
              "      <td>0.076517</td>\n",
              "    </tr>\n",
              "    <tr>\n",
              "      <th>4</th>\n",
              "      <td>KPK Cekal Melchias Markus Mekeng, Golkar Minta...</td>\n",
              "      <td>0</td>\n",
              "      <td>tribunnews</td>\n",
              "      <td>0.848445</td>\n",
              "      <td>0.151555</td>\n",
              "    </tr>\n",
              "    <tr>\n",
              "      <th>...</th>\n",
              "      <td>...</td>\n",
              "      <td>...</td>\n",
              "      <td>...</td>\n",
              "      <td>...</td>\n",
              "      <td>...</td>\n",
              "    </tr>\n",
              "    <tr>\n",
              "      <th>995</th>\n",
              "      <td>Barack Obama Kirim Ucapan Selamat atas Pertuna...</td>\n",
              "      <td>0</td>\n",
              "      <td>kapanlagi</td>\n",
              "      <td>0.418908</td>\n",
              "      <td>0.581092</td>\n",
              "    </tr>\n",
              "    <tr>\n",
              "      <th>996</th>\n",
              "      <td>Ingin Fokus ke Musik, Syifa Hadju Siap Kolabor...</td>\n",
              "      <td>0</td>\n",
              "      <td>kapanlagi</td>\n",
              "      <td>0.705218</td>\n",
              "      <td>0.294782</td>\n",
              "    </tr>\n",
              "    <tr>\n",
              "      <th>997</th>\n",
              "      <td>Heboh Kasus Jung Joon Young, YouTuber Ini Ngak...</td>\n",
              "      <td>1</td>\n",
              "      <td>kapanlagi</td>\n",
              "      <td>0.065327</td>\n",
              "      <td>0.934673</td>\n",
              "    </tr>\n",
              "    <tr>\n",
              "      <th>998</th>\n",
              "      <td>Rusak Barang Bukti, Jung Joon Young Reset Hape...</td>\n",
              "      <td>0</td>\n",
              "      <td>kapanlagi</td>\n",
              "      <td>0.567847</td>\n",
              "      <td>0.432153</td>\n",
              "    </tr>\n",
              "    <tr>\n",
              "      <th>999</th>\n",
              "      <td>Sinopsis Drama STILL 17 Episode 11, Mencoba Me...</td>\n",
              "      <td>0</td>\n",
              "      <td>kapanlagi</td>\n",
              "      <td>0.933736</td>\n",
              "      <td>0.066264</td>\n",
              "    </tr>\n",
              "  </tbody>\n",
              "</table>\n",
              "<p>13124 rows × 5 columns</p>\n",
              "</div>"
            ],
            "text/plain": [
              "                                                 title  ...  prob_true\n",
              "0    Prediksi Susunan Pemain Timnas Inggris vs Koso...  ...   0.102081\n",
              "1    Ambil Formulir Pilkada Tangsel dari PDI-P, Sit...  ...   0.254165\n",
              "2    Mulan Jameela Mantan Duet Maia Estianty Rela M...  ...   0.871157\n",
              "3    Dukung Operasional Bandara Internasional Kerta...  ...   0.076517\n",
              "4    KPK Cekal Melchias Markus Mekeng, Golkar Minta...  ...   0.151555\n",
              "..                                                 ...  ...        ...\n",
              "995  Barack Obama Kirim Ucapan Selamat atas Pertuna...  ...   0.581092\n",
              "996  Ingin Fokus ke Musik, Syifa Hadju Siap Kolabor...  ...   0.294782\n",
              "997  Heboh Kasus Jung Joon Young, YouTuber Ini Ngak...  ...   0.934673\n",
              "998  Rusak Barang Bukti, Jung Joon Young Reset Hape...  ...   0.432153\n",
              "999  Sinopsis Drama STILL 17 Episode 11, Mencoba Me...  ...   0.066264\n",
              "\n",
              "[13124 rows x 5 columns]"
            ]
          },
          "metadata": {
            "tags": []
          },
          "execution_count": 57
        }
      ]
    },
    {
      "cell_type": "code",
      "metadata": {
        "colab": {
          "base_uri": "https://localhost:8080/"
        },
        "id": "DDVEq6No3kUK",
        "outputId": "1bccea72-c862-4d43-ef2d-1657c1256806"
      },
      "source": [
        "prob_df['source'].unique()"
      ],
      "execution_count": null,
      "outputs": [
        {
          "output_type": "execute_result",
          "data": {
            "text/plain": [
              "array(['tribunnews', 'tempo', 'kompas', 'okezone', 'liputan6',\n",
              "       'republika', 'sindonews', 'wowkeren', 'fimela', 'pos_metro',\n",
              "       'kapanlagi'], dtype=object)"
            ]
          },
          "metadata": {
            "tags": []
          },
          "execution_count": 101
        }
      ]
    },
    {
      "cell_type": "code",
      "metadata": {
        "colab": {
          "base_uri": "https://localhost:8080/"
        },
        "id": "zWHlQi5r2wG0",
        "outputId": "6c9ec93b-bd06-4ab3-cee8-e9af61e35fe0"
      },
      "source": [
        "preb_dict = dict(prob_df.groupby(by=['label_score', 'source']).count()['title'])\n",
        "publ_false = {}\n",
        "src = ['tribunnews',\n",
        " 'tempo',\n",
        " 'kompas',\n",
        " 'okezone',\n",
        " 'liputan6',\n",
        " 'republika',\n",
        " 'sindonews',\n",
        " 'wowkeren',\n",
        " 'fimela',\n",
        " 'pos_metro',\n",
        " 'kapanlagi']\n",
        " \n",
        "for col in src:\n",
        "  publ_false[col] = preb_dict[(1, col)]/(preb_dict[(0, col)] + preb_dict[(1, col)])\n",
        "\n",
        "prob_df['false_publisher'] = prob_df['source'].apply(lambda x:publ_false[x])\n",
        "prob_df['true_publisher'] = 1 - prob_df['false_publisher']\n",
        "prob_df['new_false'] = prob_df['prob_false']*prob_df['false_publisher']\n",
        "prob_df['new_true'] = prob_df['prob_true']*prob_df['true_publisher']"
      ],
      "execution_count": null,
      "outputs": [
        {
          "output_type": "stream",
          "text": [
            "/usr/local/lib/python3.7/dist-packages/ipykernel_launcher.py:17: SettingWithCopyWarning: \n",
            "A value is trying to be set on a copy of a slice from a DataFrame.\n",
            "Try using .loc[row_indexer,col_indexer] = value instead\n",
            "\n",
            "See the caveats in the documentation: https://pandas.pydata.org/pandas-docs/stable/user_guide/indexing.html#returning-a-view-versus-a-copy\n",
            "/usr/local/lib/python3.7/dist-packages/ipykernel_launcher.py:18: SettingWithCopyWarning: \n",
            "A value is trying to be set on a copy of a slice from a DataFrame.\n",
            "Try using .loc[row_indexer,col_indexer] = value instead\n",
            "\n",
            "See the caveats in the documentation: https://pandas.pydata.org/pandas-docs/stable/user_guide/indexing.html#returning-a-view-versus-a-copy\n",
            "/usr/local/lib/python3.7/dist-packages/ipykernel_launcher.py:19: SettingWithCopyWarning: \n",
            "A value is trying to be set on a copy of a slice from a DataFrame.\n",
            "Try using .loc[row_indexer,col_indexer] = value instead\n",
            "\n",
            "See the caveats in the documentation: https://pandas.pydata.org/pandas-docs/stable/user_guide/indexing.html#returning-a-view-versus-a-copy\n",
            "/usr/local/lib/python3.7/dist-packages/ipykernel_launcher.py:20: SettingWithCopyWarning: \n",
            "A value is trying to be set on a copy of a slice from a DataFrame.\n",
            "Try using .loc[row_indexer,col_indexer] = value instead\n",
            "\n",
            "See the caveats in the documentation: https://pandas.pydata.org/pandas-docs/stable/user_guide/indexing.html#returning-a-view-versus-a-copy\n"
          ],
          "name": "stderr"
        }
      ]
    },
    {
      "cell_type": "code",
      "metadata": {
        "colab": {
          "base_uri": "https://localhost:8080/"
        },
        "id": "rQBR0G_76bhz",
        "outputId": "52f8b937-213e-4efd-a2fb-f39674781226"
      },
      "source": [
        "sum(prob_df['label_score'] == (prob_df['new_false'] <= prob_df['new_true']))/len(prob_df['label_score'])"
      ],
      "execution_count": null,
      "outputs": [
        {
          "output_type": "execute_result",
          "data": {
            "text/plain": [
              "0.6331911002743066"
            ]
          },
          "metadata": {
            "tags": []
          },
          "execution_count": 100
        }
      ]
    },
    {
      "cell_type": "markdown",
      "metadata": {
        "id": "QnI8IZ03zfr4"
      },
      "source": [
        "***PREDICT ALL DATAFRAME***"
      ]
    },
    {
      "cell_type": "code",
      "metadata": {
        "id": "rRxV5ShuCnrs"
      },
      "source": [
        "list_df = []\n",
        "for p in listdir('/content/drive/MyDrive/Colab Data/Clickbait Headlines - CLICK-ID/raw/csv'):\n",
        "  source = re.search('(.+).csv', p).group(1)\n",
        "  df = pd.read_csv('/content/drive/MyDrive/Colab Data/Clickbait Headlines - CLICK-ID/raw/csv/' + p)\n",
        "  df['source'] = source\n",
        "  list_df.append(df)\n",
        "\n",
        "prdct_df = pd.concat(list_df)\n",
        "res = model.predict_proba(vect.transform(prdct_df['title']))\n",
        "pred = model.predict(vect.transform())"
      ],
      "execution_count": null,
      "outputs": []
    },
    {
      "cell_type": "code",
      "metadata": {
        "colab": {
          "base_uri": "https://localhost:8080/"
        },
        "id": "bFPsUF30w-lo",
        "outputId": "0342ed44-75c9-4cea-c2a9-adefdd63a24b"
      },
      "source": [
        "[1] + [0]"
      ],
      "execution_count": null,
      "outputs": [
        {
          "output_type": "execute_result",
          "data": {
            "text/plain": [
              "[1, 0]"
            ]
          },
          "metadata": {
            "tags": []
          },
          "execution_count": 44
        }
      ]
    },
    {
      "cell_type": "code",
      "metadata": {
        "colab": {
          "base_uri": "https://localhost:8080/"
        },
        "id": "owE5VQ7CDfLr",
        "outputId": "ee4b6c12-c8a0-4ad6-c745-67467cfe161d"
      },
      "source": [
        "pos = len(res[res == 1]) + all_df[all_df['label_score'] == 1].shape[0]\n",
        "neg = len(res[res == 0] + all_df[all_df['label_score'] == 0].shape[0])\n",
        "all = pos + neg\n",
        "print('Clickbait\\t', pos, '\\t', pos/all)\n",
        "print('Non-Clickbait\\t', neg, '\\t', neg/all)"
      ],
      "execution_count": null,
      "outputs": [
        {
          "output_type": "stream",
          "text": [
            "Clickbait\t 16181 \t 0.36001779953276225\n",
            "Non-Clickbait\t 28764 \t 0.6399822004672377\n"
          ],
          "name": "stdout"
        }
      ]
    },
    {
      "cell_type": "code",
      "metadata": {
        "id": "fq3Sk8Qtu1mL"
      },
      "source": [
        ""
      ],
      "execution_count": null,
      "outputs": []
    }
  ]
}