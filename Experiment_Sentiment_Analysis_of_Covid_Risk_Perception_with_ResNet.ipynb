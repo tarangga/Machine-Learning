{
  "cells": [
    {
      "cell_type": "markdown",
      "metadata": {
        "id": "view-in-github",
        "colab_type": "text"
      }
    },
    {
      "cell_type": "markdown",
      "metadata": {
        "id": "vQCilXBWoZ4b"
      },
      "source": [
        "# Download Data"
      ]
    },
    {
      "cell_type": "code",
      "execution_count": null,
      "metadata": {
        "id": "7n4aT2yDnvfA"
      },
      "outputs": [],
      "source": [
        "# jupyter notebook --NotebookApp.allow_origin='https://colab.research.google.com' --port=8888 --NotebookApp.port_retries=0 --notebook-dir=D:\\Notebook"
      ]
    },
    {
      "cell_type": "code",
      "execution_count": null,
      "metadata": {
        "id": "MxQNx2jCoO_x"
      },
      "outputs": [],
      "source": [
        "def sheet2csv(url, save_path):\n",
        "  import requests\n",
        "  resp = requests.get(url)\n",
        "\n",
        "  output = open(save_path, 'wb')\n",
        "  output.write(resp.content)\n",
        "  output.close()\n",
        "\n",
        "sheet2csv(\n",
        "    'https://docs.google.com/spreadsheets/d/1kCwlP_LmXQm7DBagptRPHVBBQDUMmbAAhap0nKyVFyE/export?format=csv&id=1kCwlP_LmXQm7DBagptRPHVBBQDUMmbAAhap0nKyVFyE&gid=0',\n",
        "    'fakhi.csv'\n",
        "    )\n",
        "\n",
        "sheet2csv(\n",
        "    'https://docs.google.com/spreadsheets/d/1kCwlP_LmXQm7DBagptRPHVBBQDUMmbAAhap0nKyVFyE/export?format=csv&id=1kCwlP_LmXQm7DBagptRPHVBBQDUMmbAAhap0nKyVFyE&gid=948461641',\n",
        "    'nuel.csv'\n",
        ")\n",
        "\n",
        "sheet2csv(\n",
        "    'https://docs.google.com/spreadsheets/d/1kCwlP_LmXQm7DBagptRPHVBBQDUMmbAAhap0nKyVFyE/export?format=csv&id=1kCwlP_LmXQm7DBagptRPHVBBQDUMmbAAhap0nKyVFyE&gid=1096939829',\n",
        "    'ratri.csv'\n",
        ")\n",
        "\n",
        "sheet2csv(\n",
        "    'https://docs.google.com/spreadsheets/d/1kCwlP_LmXQm7DBagptRPHVBBQDUMmbAAhap0nKyVFyE/export?format=csv&id=1kCwlP_LmXQm7DBagptRPHVBBQDUMmbAAhap0nKyVFyE&gid=209928702',\n",
        "    'combine.csv'\n",
        ")"
      ]
    },
    {
      "cell_type": "code",
      "execution_count": null,
      "metadata": {
        "colab": {
          "base_uri": "https://localhost:8080/"
        },
        "id": "ddfv5KVGT4xp",
        "outputId": "722bd8e9-8fec-4725-b9de-3def637a6708"
      },
      "outputs": [
        {
          "output_type": "stream",
          "name": "stdout",
          "text": [
            "Collecting emoji\n",
            "  Downloading emoji-1.6.1.tar.gz (170 kB)\n",
            "\u001b[?25l\r\u001b[K     |██                              | 10 kB 11.5 MB/s eta 0:00:01\r\u001b[K     |███▉                            | 20 kB 11.7 MB/s eta 0:00:01\r\u001b[K     |█████▉                          | 30 kB 9.2 MB/s eta 0:00:01\r\u001b[K     |███████▊                        | 40 kB 8.4 MB/s eta 0:00:01\r\u001b[K     |█████████▋                      | 51 kB 5.0 MB/s eta 0:00:01\r\u001b[K     |███████████▋                    | 61 kB 5.5 MB/s eta 0:00:01\r\u001b[K     |█████████████▌                  | 71 kB 5.4 MB/s eta 0:00:01\r\u001b[K     |███████████████▍                | 81 kB 6.1 MB/s eta 0:00:01\r\u001b[K     |█████████████████▍              | 92 kB 4.7 MB/s eta 0:00:01\r\u001b[K     |███████████████████▎            | 102 kB 5.2 MB/s eta 0:00:01\r\u001b[K     |█████████████████████▏          | 112 kB 5.2 MB/s eta 0:00:01\r\u001b[K     |███████████████████████▏        | 122 kB 5.2 MB/s eta 0:00:01\r\u001b[K     |█████████████████████████       | 133 kB 5.2 MB/s eta 0:00:01\r\u001b[K     |███████████████████████████     | 143 kB 5.2 MB/s eta 0:00:01\r\u001b[K     |█████████████████████████████   | 153 kB 5.2 MB/s eta 0:00:01\r\u001b[K     |██████████████████████████████▉ | 163 kB 5.2 MB/s eta 0:00:01\r\u001b[K     |████████████████████████████████| 170 kB 5.2 MB/s \n",
            "\u001b[?25hBuilding wheels for collected packages: emoji\n",
            "  Building wheel for emoji (setup.py) ... \u001b[?25l\u001b[?25hdone\n",
            "  Created wheel for emoji: filename=emoji-1.6.1-py3-none-any.whl size=169314 sha256=77a9f2395e85ed9ecadb70648bbf5ec39099b5898c6e4f7a058ff389b5164b46\n",
            "  Stored in directory: /root/.cache/pip/wheels/ea/5f/d3/03d313ddb3c2a1a427bb4690f1621eea60fe6f2a30cc95940f\n",
            "Successfully built emoji\n",
            "Installing collected packages: emoji\n",
            "Successfully installed emoji-1.6.1\n"
          ]
        }
      ],
      "source": [
        "!pip install emoji"
      ]
    },
    {
      "cell_type": "markdown",
      "metadata": {
        "id": "i4FkcH6Noddg"
      },
      "source": [
        "#Import Library"
      ]
    },
    {
      "cell_type": "code",
      "execution_count": null,
      "metadata": {
        "id": "aAoLZdaxofBT"
      },
      "outputs": [],
      "source": [
        "import pandas as pd\n",
        "import pandas as pd\n",
        "import numpy as np\n",
        "import re\n",
        "from spacy.lang.id import STOP_WORDS\n",
        "from random import randint\n",
        "from tqdm import tqdm\n",
        "from datetime import datetime\n",
        "from time import time\n",
        "import pandas as pd\n",
        "import numpy as np\n",
        "from tqdm.notebook import tqdm\n",
        "tqdm.pandas()"
      ]
    },
    {
      "cell_type": "code",
      "execution_count": null,
      "metadata": {
        "id": "Ba8bU_uToism"
      },
      "outputs": [],
      "source": [
        "import matplotlib.pyplot as plt\n",
        "import plotly.express as px\n",
        "from wordcloud import WordCloud"
      ]
    },
    {
      "cell_type": "code",
      "execution_count": null,
      "metadata": {
        "id": "wE82xyYPokN8"
      },
      "outputs": [],
      "source": [
        "from sklearn.utils import resample\n",
        "from sklearn.metrics import confusion_matrix, ConfusionMatrixDisplay\n",
        "from sklearn.model_selection import train_test_split\n",
        "from sklearn.feature_extraction.text import CountVectorizer\n",
        "from sklearn.metrics.pairwise import cosine_similarity"
      ]
    },
    {
      "cell_type": "code",
      "execution_count": null,
      "metadata": {
        "id": "0RmWDykGop31"
      },
      "outputs": [],
      "source": [
        "import tensorflow as tf\n",
        "from tensorflow.keras import losses, optimizers\n",
        "from tensorflow.keras.preprocessing.text import Tokenizer\n",
        "from tensorflow.keras.preprocessing.sequence import pad_sequences\n",
        "from tensorflow.keras.layers import *\n",
        "from tensorflow.keras import Sequential, Model\n",
        "from tensorflow.keras.utils import plot_model"
      ]
    },
    {
      "cell_type": "code",
      "execution_count": null,
      "metadata": {
        "id": "46GrfLdOT622"
      },
      "outputs": [],
      "source": [
        "import emoji"
      ]
    },
    {
      "cell_type": "markdown",
      "metadata": {
        "id": "0T9ddlNrtR55"
      },
      "source": [
        "# Load Dataset"
      ]
    },
    {
      "cell_type": "code",
      "execution_count": null,
      "metadata": {
        "colab": {
          "base_uri": "https://localhost:8080/"
        },
        "id": "D2Uj7bh_R0ZR",
        "outputId": "72de4776-388f-43d8-da3a-24d9be78c167"
      },
      "outputs": [
        {
          "output_type": "stream",
          "name": "stdout",
          "text": [
            "(1832, 3)\n"
          ]
        },
        {
          "output_type": "execute_result",
          "data": {
            "text/html": [
              "\n",
              "  <div id=\"df-9c1f0200-f8a3-45b0-ba07-81d447f71d72\">\n",
              "    <div class=\"colab-df-container\">\n",
              "      <div>\n",
              "<style scoped>\n",
              "    .dataframe tbody tr th:only-of-type {\n",
              "        vertical-align: middle;\n",
              "    }\n",
              "\n",
              "    .dataframe tbody tr th {\n",
              "        vertical-align: top;\n",
              "    }\n",
              "\n",
              "    .dataframe thead th {\n",
              "        text-align: right;\n",
              "    }\n",
              "</style>\n",
              "<table border=\"1\" class=\"dataframe\">\n",
              "  <thead>\n",
              "    <tr style=\"text-align: right;\">\n",
              "      <th></th>\n",
              "      <th>TWEET</th>\n",
              "      <th>full_text</th>\n",
              "    </tr>\n",
              "    <tr>\n",
              "      <th>label</th>\n",
              "      <th></th>\n",
              "      <th></th>\n",
              "    </tr>\n",
              "  </thead>\n",
              "  <tbody>\n",
              "    <tr>\n",
              "      <th>0</th>\n",
              "      <td>965</td>\n",
              "      <td>965</td>\n",
              "    </tr>\n",
              "    <tr>\n",
              "      <th>1</th>\n",
              "      <td>806</td>\n",
              "      <td>806</td>\n",
              "    </tr>\n",
              "    <tr>\n",
              "      <th>2</th>\n",
              "      <td>61</td>\n",
              "      <td>61</td>\n",
              "    </tr>\n",
              "  </tbody>\n",
              "</table>\n",
              "</div>\n",
              "      <button class=\"colab-df-convert\" onclick=\"convertToInteractive('df-9c1f0200-f8a3-45b0-ba07-81d447f71d72')\"\n",
              "              title=\"Convert this dataframe to an interactive table.\"\n",
              "              style=\"display:none;\">\n",
              "        \n",
              "  <svg xmlns=\"http://www.w3.org/2000/svg\" height=\"24px\"viewBox=\"0 0 24 24\"\n",
              "       width=\"24px\">\n",
              "    <path d=\"M0 0h24v24H0V0z\" fill=\"none\"/>\n",
              "    <path d=\"M18.56 5.44l.94 2.06.94-2.06 2.06-.94-2.06-.94-.94-2.06-.94 2.06-2.06.94zm-11 1L8.5 8.5l.94-2.06 2.06-.94-2.06-.94L8.5 2.5l-.94 2.06-2.06.94zm10 10l.94 2.06.94-2.06 2.06-.94-2.06-.94-.94-2.06-.94 2.06-2.06.94z\"/><path d=\"M17.41 7.96l-1.37-1.37c-.4-.4-.92-.59-1.43-.59-.52 0-1.04.2-1.43.59L10.3 9.45l-7.72 7.72c-.78.78-.78 2.05 0 2.83L4 21.41c.39.39.9.59 1.41.59.51 0 1.02-.2 1.41-.59l7.78-7.78 2.81-2.81c.8-.78.8-2.07 0-2.86zM5.41 20L4 18.59l7.72-7.72 1.47 1.35L5.41 20z\"/>\n",
              "  </svg>\n",
              "      </button>\n",
              "      \n",
              "  <style>\n",
              "    .colab-df-container {\n",
              "      display:flex;\n",
              "      flex-wrap:wrap;\n",
              "      gap: 12px;\n",
              "    }\n",
              "\n",
              "    .colab-df-convert {\n",
              "      background-color: #E8F0FE;\n",
              "      border: none;\n",
              "      border-radius: 50%;\n",
              "      cursor: pointer;\n",
              "      display: none;\n",
              "      fill: #1967D2;\n",
              "      height: 32px;\n",
              "      padding: 0 0 0 0;\n",
              "      width: 32px;\n",
              "    }\n",
              "\n",
              "    .colab-df-convert:hover {\n",
              "      background-color: #E2EBFA;\n",
              "      box-shadow: 0px 1px 2px rgba(60, 64, 67, 0.3), 0px 1px 3px 1px rgba(60, 64, 67, 0.15);\n",
              "      fill: #174EA6;\n",
              "    }\n",
              "\n",
              "    [theme=dark] .colab-df-convert {\n",
              "      background-color: #3B4455;\n",
              "      fill: #D2E3FC;\n",
              "    }\n",
              "\n",
              "    [theme=dark] .colab-df-convert:hover {\n",
              "      background-color: #434B5C;\n",
              "      box-shadow: 0px 1px 3px 1px rgba(0, 0, 0, 0.15);\n",
              "      filter: drop-shadow(0px 1px 2px rgba(0, 0, 0, 0.3));\n",
              "      fill: #FFFFFF;\n",
              "    }\n",
              "  </style>\n",
              "\n",
              "      <script>\n",
              "        const buttonEl =\n",
              "          document.querySelector('#df-9c1f0200-f8a3-45b0-ba07-81d447f71d72 button.colab-df-convert');\n",
              "        buttonEl.style.display =\n",
              "          google.colab.kernel.accessAllowed ? 'block' : 'none';\n",
              "\n",
              "        async function convertToInteractive(key) {\n",
              "          const element = document.querySelector('#df-9c1f0200-f8a3-45b0-ba07-81d447f71d72');\n",
              "          const dataTable =\n",
              "            await google.colab.kernel.invokeFunction('convertToInteractive',\n",
              "                                                     [key], {});\n",
              "          if (!dataTable) return;\n",
              "\n",
              "          const docLinkHtml = 'Like what you see? Visit the ' +\n",
              "            '<a target=\"_blank\" href=https://colab.research.google.com/notebooks/data_table.ipynb>data table notebook</a>'\n",
              "            + ' to learn more about interactive tables.';\n",
              "          element.innerHTML = '';\n",
              "          dataTable['output_type'] = 'display_data';\n",
              "          await google.colab.output.renderOutput(dataTable, element);\n",
              "          const docLink = document.createElement('div');\n",
              "          docLink.innerHTML = docLinkHtml;\n",
              "          element.appendChild(docLink);\n",
              "        }\n",
              "      </script>\n",
              "    </div>\n",
              "  </div>\n",
              "  "
            ],
            "text/plain": [
              "       TWEET  full_text\n",
              "label                  \n",
              "0        965        965\n",
              "1        806        806\n",
              "2         61         61"
            ]
          },
          "metadata": {},
          "execution_count": 9
        }
      ],
      "source": [
        "# corr_dict = pd.read_csv('/content/drive/MyDrive/Project/Data/Twitter/Correction/UI - Emotion/kamus_singkatan.csv',  sep=';', names=[0, 1], index_col=0)[1].to_dict()\n",
        "map_value = {'s': 0, 'p':1, 'n':2, 'o':0, np.nan:-1}\n",
        "df = pd.read_csv('/content/combine.csv')\n",
        "df['label'] = pd.read_csv('/content/combine.csv')['Arah Voting'].str.lower().str.strip().map(map_value)\n",
        "df = df[df['label'] != -1]\n",
        "df = df[['TWEET', 'label']]\n",
        "df['full_text'] = df['TWEET']\n",
        "df.drop_duplicates(['TWEET'], inplace=True)\n",
        "df = df.drop(df.index[[295]]).reset_index(drop=True)\n",
        "print(df.shape)\n",
        "df.groupby('label').count()"
      ]
    },
    {
      "cell_type": "code",
      "execution_count": null,
      "metadata": {
        "id": "SrAT-DY0krO0"
      },
      "outputs": [],
      "source": [
        "df.at[373, 'label'] = 1"
      ]
    },
    {
      "cell_type": "code",
      "execution_count": null,
      "metadata": {
        "id": "eAvcQnrDvMkr"
      },
      "outputs": [],
      "source": [
        "full_df = pd.read_csv('/content/drive/Shareddrives/Covid Sentiment/Full_clean_duplicate.csv')\n",
        "full_df = full_df[full_df['stopword'].notnull()]"
      ]
    },
    {
      "cell_type": "markdown",
      "metadata": {
        "id": "ZUU87Yp6vr0-"
      },
      "source": [
        "# Preprocessing"
      ]
    },
    {
      "cell_type": "code",
      "execution_count": null,
      "metadata": {
        "id": "upb1nwP3vtM1"
      },
      "outputs": [],
      "source": [
        "def deEmojify(text):\n",
        "  regrex_pattern = re.compile(pattern = \"[\"\n",
        "      u\"\\U0001F600-\\U0001F64F\"  # emoticons\n",
        "      u\"\\U0001F300-\\U0001F5FF\"  # symbols & pictographs\n",
        "      u\"\\U0001F680-\\U0001F6FF\"  # transport & map symbols\n",
        "      u\"\\U0001F1E0-\\U0001F1FF\"  # flags (iOS)\n",
        "      u\"\\U00002500-\\U00002BEF\"  # chinese char\n",
        "      u\"\\U00002702-\\U000027B0\"\n",
        "      u\"\\U00002702-\\U000027B0\"\n",
        "      u\"\\U000024C2-\\U0001F251\"\n",
        "      u\"\\U0001f926-\\U0001f937\"\n",
        "      u\"\\U00010000-\\U0010ffff\"\n",
        "      u\"\\u2640-\\u2642\"\n",
        "      u\"\\u2600-\\u2B55\"\n",
        "      u\"\\u200d\"\n",
        "      u\"\\u23cf\"\n",
        "      u\"\\u23e9\"\n",
        "      u\"\\u231a\"\n",
        "      u\"\\ufe0f\"  # dingbats\n",
        "      u\"\\u3030\"\n",
        "                          \"]+\", flags = re.UNICODE)\n",
        "  return regrex_pattern.sub(r'', text)\n",
        "\n",
        "def clean(text):\n",
        "  text = str(text)\n",
        "  text = text.replace('&amp;', ' ')\n",
        "  text = text.lower()\n",
        "  text = deEmojify(text)\n",
        "  text = re.sub(r'@[0-9a-z]+', ' [USERNAME] ', text)\n",
        "  text = re.sub(r'#[0-9a-z]+', ' [HASHTAG] ', text)\n",
        "  text = re.sub(r'http\\S+', ' [URL] ', text)\n",
        "  text = re.sub(r'[-]', '', text)\n",
        "  text = re.sub(r'[^0-9a-z_]', ' ', text)\n",
        "  text = re.sub(r'[0-9]+', ' ', text)\n",
        "  return text\n",
        "\n",
        "def clean_stopwords(text, stop_words=STOP_WORDS):\n",
        "  text = str(text)\n",
        "  text = text.split()\n",
        "  text = [t for t in text if t not in stop_words]\n",
        "  return ' '.join(text).strip()\n",
        " "
      ]
    },
    {
      "cell_type": "code",
      "execution_count": null,
      "metadata": {
        "id": "NAfLXMkgvxNU"
      },
      "outputs": [],
      "source": [
        "# df['TWEET'] = df['full_text'].apply(lambda x: emoji.demojize(str(x))).apply(clean).apply(lambda x : ' '.join(str(x).split()))\n",
        "df['TWEET'] = df['full_text'].apply(clean).apply(deEmojify).apply(clean_stopwords)\n",
        "df = df.drop_duplicates(['TWEET']).reset_index(drop=True)\n",
        "# full_df['clean'] = full_df['full_text'].apply(lambda x: emoji.demojize(str(x))).apply(clean).apply(lambda x : ' '.join(str(x).split()))"
      ]
    },
    {
      "cell_type": "markdown",
      "metadata": {
        "id": "xaGlPo3UCRm_"
      },
      "source": [
        "# EDA"
      ]
    },
    {
      "cell_type": "code",
      "execution_count": null,
      "metadata": {
        "colab": {
          "base_uri": "https://localhost:8080/"
        },
        "id": "o7zPUGoECSqR",
        "outputId": "73b40621-0a7d-4663-b98e-47e808d3e06d"
      },
      "outputs": [
        {
          "output_type": "execute_result",
          "data": {
            "text/plain": [
              "(1774, 1774)"
            ]
          },
          "metadata": {},
          "execution_count": 14
        }
      ],
      "source": [
        "cv = CountVectorizer()\n",
        "vec = cv.fit_transform(df['TWEET'])\n",
        "sim = cosine_similarity(vec)\n",
        "sim.shape"
      ]
    },
    {
      "cell_type": "code",
      "execution_count": null,
      "metadata": {
        "colab": {
          "base_uri": "https://localhost:8080/"
        },
        "id": "7Qtb4t4tDPMe",
        "outputId": "221172bd-1d00-4054-e7bc-4eb29404fc48"
      },
      "outputs": [
        {
          "output_type": "stream",
          "name": "stdout",
          "text": [
            "1798 1798 True 12.0\n"
          ]
        }
      ],
      "source": [
        "sim_ = np.where(sim > 0.9)\n",
        "print(len(sim_[0]), len(sim_[1]), len(sim_[0]) == len(sim_[1]), ( float(len(sim_[0])) - sim.shape[0])/2)"
      ]
    },
    {
      "cell_type": "code",
      "execution_count": null,
      "metadata": {
        "id": "RevDGzHaGG5_"
      },
      "outputs": [],
      "source": [
        "X, Y = sim_"
      ]
    },
    {
      "cell_type": "code",
      "execution_count": null,
      "metadata": {
        "colab": {
          "base_uri": "https://localhost:8080/"
        },
        "id": "BbOu0wBDFDDE",
        "outputId": "28eaba1d-8391-472f-ef79-e490e357a4f5"
      },
      "outputs": [
        {
          "output_type": "execute_result",
          "data": {
            "text/plain": [
              "array([[ 284,  286],\n",
              "       [ 312,  556],\n",
              "       [ 418,  420],\n",
              "       [ 418,  521],\n",
              "       [ 420,  521],\n",
              "       [ 455,  456],\n",
              "       [ 456,  457],\n",
              "       [ 457, 1271],\n",
              "       [ 516,  517],\n",
              "       [ 549, 1636],\n",
              "       [1396, 1681],\n",
              "       [1416, 1417]])"
            ]
          },
          "metadata": {},
          "execution_count": 17
        }
      ],
      "source": [
        "same_arr = [np.sort(x) for x in zip(X, Y) if x[0]!=x[1]]\n",
        "np.unique(same_arr, axis=0)"
      ]
    },
    {
      "cell_type": "code",
      "execution_count": null,
      "metadata": {
        "colab": {
          "base_uri": "https://localhost:8080/"
        },
        "id": "PJy_iqEMEaVk",
        "outputId": "c51e20c5-87b2-47f3-e8a3-bcf4ba65a2db"
      },
      "outputs": [
        {
          "output_type": "execute_result",
          "data": {
            "text/plain": [
              "1776"
            ]
          },
          "metadata": {},
          "execution_count": 18
        }
      ],
      "source": [
        "np.sum(sim >0.9999)"
      ]
    },
    {
      "cell_type": "code",
      "execution_count": null,
      "metadata": {
        "colab": {
          "base_uri": "https://localhost:8080/"
        },
        "id": "M8Qo9cGwDoR3",
        "outputId": "70688005-3dbc-4ab6-d628-fc6d64cceeb6"
      },
      "outputs": [
        {
          "output_type": "execute_result",
          "data": {
            "text/plain": [
              "(1774, 1774)"
            ]
          },
          "metadata": {},
          "execution_count": 19
        }
      ],
      "source": [
        "sim.shape"
      ]
    },
    {
      "cell_type": "markdown",
      "metadata": {
        "id": "Y7q4KLOToua-"
      },
      "source": [
        "# Convert to Vector"
      ]
    },
    {
      "cell_type": "code",
      "execution_count": null,
      "metadata": {
        "id": "Uy9tfrlqmeJB"
      },
      "outputs": [],
      "source": [
        "# arr = full_df['clean'].str.split().tolist() + df['TWEET'].str.split().tolist()"
      ]
    },
    {
      "cell_type": "code",
      "execution_count": null,
      "metadata": {
        "id": "tHLORqtJ28c0"
      },
      "outputs": [],
      "source": [
        "# for a in arr:\n",
        "#   try:\n",
        "#     len(a)\n",
        "#   except Exception as e:\n",
        "#     print(a, e)"
      ]
    },
    {
      "cell_type": "code",
      "execution_count": null,
      "metadata": {
        "id": "pVjUhi26eCRR"
      },
      "outputs": [],
      "source": [
        "from gensim.test.utils import common_texts\n",
        "from gensim.models import Word2Vec\n",
        "# dim = 250\n",
        "# model = Word2Vec(sentences=arr, size=dim, window=5, min_count=1, workers=4, sg=1)\n",
        "# model.save('/content/drive/Shareddrives/Covid Sentiment/model/skip-gram/skipgram.model')\n",
        "# model = Word2Vec.load('/content/drive/Shareddrives/Covid Sentiment/model/skip-gram/skipgram.model')\n",
        "\n",
        "# model = Word2Vec(sentences=arr, size=300, window=5, min_count=1, workers=4, sg=0)\n",
        "# model.save('/content/drive/Shareddrives/Covid Sentiment/model/cbow/cbow.model')\n",
        "model = Word2Vec.load('/content/drive/Shareddrives/Covid Sentiment/model/cbow/cbow.model')\n"
      ]
    },
    {
      "cell_type": "code",
      "execution_count": null,
      "metadata": {
        "colab": {
          "base_uri": "https://localhost:8080/"
        },
        "id": "n-yTfAUoiTAB",
        "outputId": "16534bfb-4076-4992-d46a-7c7900a203a1"
      },
      "outputs": [
        {
          "output_type": "execute_result",
          "data": {
            "text/plain": [
              "(1774, 49, 300)"
            ]
          },
          "metadata": {},
          "execution_count": 21
        }
      ],
      "source": [
        "sent_vec = [model.wv[t.split()] for t in df['TWEET']]\n",
        "maxlen = max([len(sent_vec[i]) for i in range(len(sent_vec))])\n",
        "sent_vec_ = pad_sequences(sent_vec, maxlen=maxlen, dtype=float)\n",
        "sent_vec_.shape"
      ]
    },
    {
      "cell_type": "markdown",
      "metadata": {
        "id": "EkmZYA394gdW"
      },
      "source": [
        "# Training"
      ]
    },
    {
      "cell_type": "code",
      "execution_count": null,
      "metadata": {
        "id": "5ifaZxs24hq2"
      },
      "outputs": [],
      "source": [
        "# X_train, X_test, y_train, y_test = train_test_split(sent_vec_, df['label'], stratify=df['label'], random_state=17)\n",
        "X_train, X_test, y_train, y_test = train_test_split(sent_vec_, df['label'], random_state=17)\n"
      ]
    },
    {
      "cell_type": "code",
      "source": [
        "class IdentityBlock(Model):\n",
        "  def __init__(self, out, kernel, num, input_conv=False):\n",
        "    super(IdentityBlock, self).__init__()\n",
        "    self.blocks = [Conv1D(out, kernel, padding='same') for i in range(num)]\n",
        "    self.normals = [BatchNormalization() for i in range(num)]\n",
        "    if input_conv:\n",
        "      self.conv = Conv1D(out, kernel, padding='same')\n",
        "      self.norm = BatchNormalization()\n",
        "    self.act = Activation('relu')\n",
        "    self.add = Add()\n",
        "\n",
        "    self.num = num\n",
        "    self.input_conv = input_conv\n",
        "\n",
        "  def call(self, input_tensor):\n",
        "    # print(input_tensor.shape)\n",
        "    x = self.blocks[0](input_tensor)\n",
        "    # print(x.shape)\n",
        "    x = self.normals[0](x)\n",
        "    x = self.act(x)\n",
        "    for i in range(1, self.num):\n",
        "      x = self.blocks[i](x)\n",
        "      x = self.normals[i](x)\n",
        "      x = self.act(x)\n",
        "    if self.input_conv:\n",
        "      input_tensor = self.conv(input_tensor)\n",
        "      input_tensor = self.norm(input_tensor)\n",
        "    x = self.add([x, input_tensor])\n",
        "    return self.act(x)"
      ],
      "metadata": {
        "id": "61MXjAQLgyOF"
      },
      "execution_count": null,
      "outputs": []
    },
    {
      "cell_type": "code",
      "source": [
        "class ResNetPart(Model):\n",
        "  def __init__(self, filter, kernel, num, repetition, change_first=True):\n",
        "    super(ResNetPart, self).__init__()\n",
        "    self.Is = [IdentityBlock(filter, kernel, num, change_first)] + [IdentityBlock(filter, kernel, num) for i in range(repetition-1)]\n",
        "\n",
        "  def call(self, input_tensor):\n",
        "\n",
        "    x = self.Is[0](input_tensor)\n",
        "    for b in self.Is[1:]:\n",
        "      x = b(x)\n",
        "\n",
        "    return x"
      ],
      "metadata": {
        "id": "6nR_6yFKubW0"
      },
      "execution_count": null,
      "outputs": []
    },
    {
      "cell_type": "code",
      "source": [
        "classifier = Sequential(\n",
        "    [\n",
        "     Input(shape=(maxlen, 300)),\n",
        "     Conv1D(64, 7, padding='same'),\n",
        "     ResNetPart(64, 3, 3, 3, False),\n",
        "     ResNetPart(128, 3, 4, 4),\n",
        "     ResNetPart(256, 3, 5, 6),\n",
        "     ResNetPart(512, 3, 3, 3),\n",
        "    #  GlobalAveragePooling1D(),\n",
        "     LSTM(256),\n",
        "     Dense(128),\n",
        "     Dense(3, activation='sigmoid')\n",
        "    ]\n",
        ")\n",
        "classifier.compile(optimizer='adam', loss='sparse_categorical_crossentropy', metrics=['accuracy'])\n",
        "# classifier.summary()\n",
        "plot_model(classifier)"
      ],
      "metadata": {
        "colab": {
          "base_uri": "https://localhost:8080/",
          "height": 856
        },
        "id": "sbbbjMKXlc2L",
        "outputId": "96da2119-07bd-4e83-c190-69cf0b121dae"
      },
      "execution_count": null,
      "outputs": [
        {
          "output_type": "execute_result",
          "data": {
            "image/png": "[encoded data removed]",
            "text/plain": [
              "<IPython.core.display.Image object>"
            ]
          },
          "metadata": {},
          "execution_count": 29
        }
      ]
    },
    {
      "cell_type": "code",
      "source": [
        "history = classifier.fit(X_train, y_train, epochs=10,\n",
        "                    validation_data=(X_test, y_test))"
      ],
      "metadata": {
        "colab": {
          "base_uri": "https://localhost:8080/"
        },
        "id": "ldNAVzWpnemB",
        "outputId": "826ce67e-3b00-489e-d227-90250b28ab4c"
      },
      "execution_count": null,
      "outputs": [
        {
          "output_type": "stream",
          "name": "stdout",
          "text": [
            "Epoch 1/10\n",
            "42/42 [==============================] - 380s 7s/step - loss: 0.9135 - accuracy: 0.5368 - val_loss: 0.7863 - val_accuracy: 0.5698\n",
            "Epoch 2/10\n",
            "42/42 [==============================] - 204s 5s/step - loss: 0.8052 - accuracy: 0.5556 - val_loss: 0.7931 - val_accuracy: 0.5788\n",
            "Epoch 3/10\n",
            "42/42 [==============================] - 202s 5s/step - loss: 0.7382 - accuracy: 0.6541 - val_loss: 0.7644 - val_accuracy: 0.6554\n",
            "Epoch 4/10\n",
            "42/42 [==============================] - 202s 5s/step - loss: 0.7049 - accuracy: 0.6872 - val_loss: 0.7604 - val_accuracy: 0.6599\n",
            "Epoch 5/10\n",
            "42/42 [==============================] - 204s 5s/step - loss: 0.6628 - accuracy: 0.7301 - val_loss: 0.7618 - val_accuracy: 0.6622\n",
            "Epoch 6/10\n",
            "42/42 [==============================] - 203s 5s/step - loss: 0.5944 - accuracy: 0.7842 - val_loss: 0.7702 - val_accuracy: 0.6667\n",
            "Epoch 7/10\n",
            "42/42 [==============================] - 217s 5s/step - loss: 0.6070 - accuracy: 0.7729 - val_loss: 0.8434 - val_accuracy: 0.6396\n",
            "Epoch 8/10\n",
            "42/42 [==============================] - 202s 5s/step - loss: 0.5412 - accuracy: 0.8053 - val_loss: 0.7945 - val_accuracy: 0.6802\n",
            "Epoch 9/10\n",
            "42/42 [==============================] - 202s 5s/step - loss: 0.5116 - accuracy: 0.8150 - val_loss: 1.5696 - val_accuracy: 0.4617\n",
            "Epoch 10/10\n",
            "42/42 [==============================] - 201s 5s/step - loss: 0.4205 - accuracy: 0.8602 - val_loss: 1.1039 - val_accuracy: 0.6509\n"
          ]
        }
      ]
    }
  ],
  "metadata": {
    "colab": {
      "collapsed_sections": [
        "vQCilXBWoZ4b",
        "i4FkcH6Noddg",
        "xaGlPo3UCRm_"
      ],
      "name": "Experiment: Sentiment Analysis of Covid Risk Perception - ResNet",
      "provenance": [],
      "mount_file_id": "1ZA-ALVHIHbVMOQz3WgZEG__5A6bDuLRx",
      "authorship_tag": "ABX9TyMOCwGA+CM0vNpauoWjv6+l",
      "include_colab_link": true
    },
    "kernelspec": {
      "display_name": "Python 3",
      "name": "python3"
    },
    "language_info": {
      "name": "python"
    }
  },
  "nbformat": 4,
  "nbformat_minor": 0
}
