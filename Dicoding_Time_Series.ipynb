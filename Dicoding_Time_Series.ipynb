{
  "nbformat": 4,
  "nbformat_minor": 0,
  "metadata": {
    "colab": {
      "name": "Dicoding Time Series",
      "provenance": [],
      "collapsed_sections": [],
      "mount_file_id": "1QKDVMhVi9OnoPUYSzwl6Nv9Ai_IC4RBd",
      "authorship_tag": "ABX9TyOANxbsT0qP13/flDdhQwq/",
      "include_colab_link": true
    },
    "kernelspec": {
      "name": "python3",
      "display_name": "Python 3"
    },
    "accelerator": "GPU"
  },
  "cells": [
    {
      "cell_type": "markdown",
      "metadata": {
        "id": "view-in-github",
        "colab_type": "text"
      },
      "source": [
        "<a href=\"https://colab.research.google.com/github/tarangga/Machine-Learning/blob/main/Dicoding_Time_Series.ipynb\" target=\"_parent\"><img src=\"https://colab.research.google.com/assets/colab-badge.svg\" alt=\"Open In Colab\"/></a>"
      ]
    },
    {
      "cell_type": "code",
      "metadata": {
        "id": "zEM8TWuJAigK",
        "colab": {
          "base_uri": "https://localhost:8080/"
        },
        "outputId": "4945ea0c-5f1d-4de4-f48a-6f28d62ae1b2"
      },
      "source": [
        "import pandas as pd\n",
        "import numpy as np\n",
        " \n",
        "df = pd.read_csv('/content/drive/My Drive/Colab Data/Dicoding/household_power_consumption.txt', sep=';')\n",
        "df = df[['Global_active_power', 'Date', 'Time']]"
      ],
      "execution_count": null,
      "outputs": [
        {
          "output_type": "stream",
          "text": [
            "/usr/local/lib/python3.6/dist-packages/IPython/core/interactiveshell.py:2718: DtypeWarning: Columns (2,3,4,5,6,7) have mixed types.Specify dtype option on import or set low_memory=False.\n",
            "  interactivity=interactivity, compiler=compiler, result=result)\n"
          ],
          "name": "stderr"
        }
      ]
    },
    {
      "cell_type": "code",
      "metadata": {
        "id": "7BiwBeuUwMx-",
        "colab": {
          "base_uri": "https://localhost:8080/"
        },
        "outputId": "c72b2dc8-81fd-4961-bda7-dc247d9e12d4"
      },
      "source": [
        "\n",
        "def func(x):\n",
        "  if(x != '?'):\n",
        "    return float(x)\n",
        "  else:\n",
        "    return np.NaN\n",
        "\n",
        "df['Global_active_power'] = df['Global_active_power'].apply(func)\n",
        "print(df.isnull().sum())\n",
        "mean = df['Global_active_power'].mean()\n",
        "df['Global_active_power'] = df['Global_active_power'].fillna(mean)\n",
        "print(df.isnull().sum())"
      ],
      "execution_count": null,
      "outputs": [
        {
          "output_type": "stream",
          "text": [
            "Global_active_power    25979\n",
            "Date                       0\n",
            "Time                       0\n",
            "dtype: int64\n",
            "Global_active_power    0\n",
            "Date                   0\n",
            "Time                   0\n",
            "dtype: int64\n"
          ],
          "name": "stdout"
        }
      ]
    },
    {
      "cell_type": "code",
      "metadata": {
        "id": "jBxTHOPkA8sN",
        "colab": {
          "base_uri": "https://localhost:8080/",
          "height": 708
        },
        "outputId": "b1042fbb-38ba-4038-b95b-0ffd3971627f"
      },
      "source": [
        "data = df[['Global_active_power']]\n",
        "data['Timestamp'] = df['Date'] + ' ' + df['Time']\n",
        "data['Global_active_power'] = data[data['Global_active_power'] != '?']['Global_active_power'].astype('float32')\n",
        "data.dropna(inplace=True)\n",
        "data"
      ],
      "execution_count": null,
      "outputs": [
        {
          "output_type": "stream",
          "text": [
            "/usr/local/lib/python3.6/dist-packages/ipykernel_launcher.py:2: SettingWithCopyWarning: \n",
            "A value is trying to be set on a copy of a slice from a DataFrame.\n",
            "Try using .loc[row_indexer,col_indexer] = value instead\n",
            "\n",
            "See the caveats in the documentation: https://pandas.pydata.org/pandas-docs/stable/user_guide/indexing.html#returning-a-view-versus-a-copy\n",
            "  \n",
            "/usr/local/lib/python3.6/dist-packages/ipykernel_launcher.py:3: SettingWithCopyWarning: \n",
            "A value is trying to be set on a copy of a slice from a DataFrame.\n",
            "Try using .loc[row_indexer,col_indexer] = value instead\n",
            "\n",
            "See the caveats in the documentation: https://pandas.pydata.org/pandas-docs/stable/user_guide/indexing.html#returning-a-view-versus-a-copy\n",
            "  This is separate from the ipykernel package so we can avoid doing imports until\n",
            "/usr/local/lib/python3.6/dist-packages/ipykernel_launcher.py:4: SettingWithCopyWarning: \n",
            "A value is trying to be set on a copy of a slice from a DataFrame\n",
            "\n",
            "See the caveats in the documentation: https://pandas.pydata.org/pandas-docs/stable/user_guide/indexing.html#returning-a-view-versus-a-copy\n",
            "  after removing the cwd from sys.path.\n"
          ],
          "name": "stderr"
        },
        {
          "output_type": "execute_result",
          "data": {
            "text/html": [
              "<div>\n",
              "<style scoped>\n",
              "    .dataframe tbody tr th:only-of-type {\n",
              "        vertical-align: middle;\n",
              "    }\n",
              "\n",
              "    .dataframe tbody tr th {\n",
              "        vertical-align: top;\n",
              "    }\n",
              "\n",
              "    .dataframe thead th {\n",
              "        text-align: right;\n",
              "    }\n",
              "</style>\n",
              "<table border=\"1\" class=\"dataframe\">\n",
              "  <thead>\n",
              "    <tr style=\"text-align: right;\">\n",
              "      <th></th>\n",
              "      <th>Global_active_power</th>\n",
              "      <th>Timestamp</th>\n",
              "    </tr>\n",
              "  </thead>\n",
              "  <tbody>\n",
              "    <tr>\n",
              "      <th>0</th>\n",
              "      <td>4.216</td>\n",
              "      <td>16/12/2006 17:24:00</td>\n",
              "    </tr>\n",
              "    <tr>\n",
              "      <th>1</th>\n",
              "      <td>5.360</td>\n",
              "      <td>16/12/2006 17:25:00</td>\n",
              "    </tr>\n",
              "    <tr>\n",
              "      <th>2</th>\n",
              "      <td>5.374</td>\n",
              "      <td>16/12/2006 17:26:00</td>\n",
              "    </tr>\n",
              "    <tr>\n",
              "      <th>3</th>\n",
              "      <td>5.388</td>\n",
              "      <td>16/12/2006 17:27:00</td>\n",
              "    </tr>\n",
              "    <tr>\n",
              "      <th>4</th>\n",
              "      <td>3.666</td>\n",
              "      <td>16/12/2006 17:28:00</td>\n",
              "    </tr>\n",
              "    <tr>\n",
              "      <th>...</th>\n",
              "      <td>...</td>\n",
              "      <td>...</td>\n",
              "    </tr>\n",
              "    <tr>\n",
              "      <th>2075254</th>\n",
              "      <td>0.946</td>\n",
              "      <td>26/11/2010 20:58:00</td>\n",
              "    </tr>\n",
              "    <tr>\n",
              "      <th>2075255</th>\n",
              "      <td>0.944</td>\n",
              "      <td>26/11/2010 20:59:00</td>\n",
              "    </tr>\n",
              "    <tr>\n",
              "      <th>2075256</th>\n",
              "      <td>0.938</td>\n",
              "      <td>26/11/2010 21:00:00</td>\n",
              "    </tr>\n",
              "    <tr>\n",
              "      <th>2075257</th>\n",
              "      <td>0.934</td>\n",
              "      <td>26/11/2010 21:01:00</td>\n",
              "    </tr>\n",
              "    <tr>\n",
              "      <th>2075258</th>\n",
              "      <td>0.932</td>\n",
              "      <td>26/11/2010 21:02:00</td>\n",
              "    </tr>\n",
              "  </tbody>\n",
              "</table>\n",
              "<p>2075259 rows × 2 columns</p>\n",
              "</div>"
            ],
            "text/plain": [
              "         Global_active_power            Timestamp\n",
              "0                      4.216  16/12/2006 17:24:00\n",
              "1                      5.360  16/12/2006 17:25:00\n",
              "2                      5.374  16/12/2006 17:26:00\n",
              "3                      5.388  16/12/2006 17:27:00\n",
              "4                      3.666  16/12/2006 17:28:00\n",
              "...                      ...                  ...\n",
              "2075254                0.946  26/11/2010 20:58:00\n",
              "2075255                0.944  26/11/2010 20:59:00\n",
              "2075256                0.938  26/11/2010 21:00:00\n",
              "2075257                0.934  26/11/2010 21:01:00\n",
              "2075258                0.932  26/11/2010 21:02:00\n",
              "\n",
              "[2075259 rows x 2 columns]"
            ]
          },
          "metadata": {
            "tags": []
          },
          "execution_count": 13
        }
      ]
    },
    {
      "cell_type": "code",
      "metadata": {
        "id": "NL_oCePuLjmj",
        "colab": {
          "base_uri": "https://localhost:8080/",
          "height": 278
        },
        "outputId": "a2a8be75-9398-4bcd-fe8f-093a899a8493"
      },
      "source": [
        "import matplotlib.pyplot as plt\n",
        "\n",
        "plt.plot(data['Global_active_power'])\n",
        "plt.show()"
      ],
      "execution_count": null,
      "outputs": [
        {
          "output_type": "display_data",
          "data": {
            "image/png": "[encoded data removed]",
            "text/plain": [
              "<Figure size 432x288 with 1 Axes>"
            ]
          },
          "metadata": {
            "tags": [],
            "needs_background": "light"
          }
        }
      ]
    },
    {
      "cell_type": "code",
      "metadata": {
        "id": "UARsKHkWFz3F"
      },
      "source": [
        "import tensorflow as tf\n",
        "def windowed_dataset(series, window_size, batch_size, shuffle_buffer):\n",
        "    series = tf.expand_dims(series, axis=-1)\n",
        "    ds = tf.data.Dataset.from_tensor_slices(series)\n",
        "    ds = ds.window(window_size + 1, shift=1, drop_remainder=True)\n",
        "    ds = ds.flat_map(lambda w: w.batch(window_size + 1))\n",
        "    ds = ds.shuffle(shuffle_buffer)\n",
        "    ds = ds.map(lambda w: (w[:-1], w[1:]))\n",
        "    return ds.batch(batch_size).prefetch(1)\n"
      ],
      "execution_count": null,
      "outputs": []
    },
    {
      "cell_type": "code",
      "metadata": {
        "id": "bN7TO6bAF0dX"
      },
      "source": [
        "from sklearn.model_selection import train_test_split\n",
        "\n",
        "X_train, X_test, y_train, y_test = train_test_split(data['Global_active_power'].values, data['Timestamp'], test_size=0.2)\n",
        "train_set = windowed_dataset(X_train, window_size=60, batch_size=100, shuffle_buffer=1000)\n",
        "test_set = windowed_dataset(X_test, window_size=60, batch_size=100, shuffle_buffer=1000)"
      ],
      "execution_count": null,
      "outputs": []
    },
    {
      "cell_type": "code",
      "metadata": {
        "id": "rPXfES-ZCwZU",
        "colab": {
          "base_uri": "https://localhost:8080/"
        },
        "outputId": "57c19ce6-ddf0-4afa-c538-8eddf76dba5c"
      },
      "source": [
        "\n",
        "callback = tf.keras.callbacks.EarlyStopping(monitor='mae', patience=7)\n",
        "model = tf.keras.models.Sequential([\n",
        "  tf.keras.layers.Conv1D(filters=128, kernel_size=2, activation='relu'),\n",
        "  tf.keras.layers.MaxPooling1D(pool_size=2),\n",
        "  tf.keras.layers.Conv1D(filters=32, kernel_size=2, activation='relu'),\n",
        "  tf.keras.layers.MaxPooling1D(pool_size=2),\n",
        "  tf.keras.layers.LSTM(60),\n",
        "  tf.keras.layers.Dense(64, activation=\"relu\"),\n",
        "  tf.keras.layers.Dense(32, activation=\"relu\"),\n",
        "  tf.keras.layers.Dense(1),\n",
        "])\n",
        "\n",
        "optimizer = tf.keras.optimizers.SGD(lr=1.0000e-04, momentum=0.5)\n",
        "model.compile(loss=tf.keras.losses.Huber(),\n",
        "              optimizer=optimizer,\n",
        "              metrics=[\"mae\"])\n",
        "history = model.fit(train_set, epochs=50, callbacks=[callback], batch_size=32,\n",
        "                    validation_data=test_set, steps_per_epoch=512)"
      ],
      "execution_count": null,
      "outputs": [
        {
          "output_type": "stream",
          "text": [
            "Epoch 1/50\n",
            "512/512 [==============================] - 54s 106ms/step - loss: 0.6147 - mae: 0.9309 - val_loss: 0.5412 - val_mae: 0.8248\n",
            "Epoch 2/50\n",
            "512/512 [==============================] - 54s 106ms/step - loss: 0.4924 - mae: 0.7868 - val_loss: 0.4579 - val_mae: 0.7746\n",
            "Epoch 3/50\n",
            "512/512 [==============================] - 54s 106ms/step - loss: 0.4318 - mae: 0.7701 - val_loss: 0.4140 - val_mae: 0.7708\n",
            "Epoch 4/50\n",
            "512/512 [==============================] - 55s 106ms/step - loss: 0.4062 - mae: 0.7757 - val_loss: 0.3971 - val_mae: 0.7749\n",
            "Epoch 5/50\n",
            "512/512 [==============================] - 55s 108ms/step - loss: 0.3963 - mae: 0.7805 - val_loss: 0.3918 - val_mae: 0.7791\n",
            "Epoch 6/50\n",
            "512/512 [==============================] - 54s 105ms/step - loss: 0.3894 - mae: 0.7787 - val_loss: 0.3905 - val_mae: 0.7818\n",
            "Epoch 7/50\n",
            "512/512 [==============================] - 54s 105ms/step - loss: 0.3906 - mae: 0.7830 - val_loss: 0.3901 - val_mae: 0.7832\n",
            "Epoch 8/50\n",
            "512/512 [==============================] - 54s 106ms/step - loss: 0.3911 - mae: 0.7853 - val_loss: 0.3901 - val_mae: 0.7840\n",
            "Epoch 9/50\n",
            "512/512 [==============================] - 54s 106ms/step - loss: 0.3879 - mae: 0.7818 - val_loss: 0.3900 - val_mae: 0.7842\n",
            "Epoch 10/50\n",
            "512/512 [==============================] - 53s 104ms/step - loss: 0.3874 - mae: 0.7820 - val_loss: 0.3900 - val_mae: 0.7843\n"
          ],
          "name": "stdout"
        }
      ]
    },
    {
      "cell_type": "code",
      "metadata": {
        "id": "9bytsFww7V-a",
        "colab": {
          "base_uri": "https://localhost:8080/",
          "height": 265
        },
        "outputId": "7ad2c77a-c6d6-487c-afa4-7aa56056765f"
      },
      "source": [
        "plt.plot(history.history['loss'])\n",
        "plt.plot(history.history['val_loss'])\n",
        "plt.show()"
      ],
      "execution_count": null,
      "outputs": [
        {
          "output_type": "display_data",
          "data": {
            "image/png": "[encoded data removed]",
            "text/plain": [
              "<Figure size 432x288 with 1 Axes>"
            ]
          },
          "metadata": {
            "tags": [],
            "needs_background": "light"
          }
        }
      ]
    },
    {
      "cell_type": "code",
      "metadata": {
        "id": "hor6jfoe7veT",
        "colab": {
          "base_uri": "https://localhost:8080/",
          "height": 265
        },
        "outputId": "997df676-bec0-42bb-ff55-f32b569f627a"
      },
      "source": [
        "plt.plot(history.history['mae'])\n",
        "plt.plot(history.history['val_mae'])\n",
        "plt.show()"
      ],
      "execution_count": null,
      "outputs": [
        {
          "output_type": "display_data",
          "data": {
            "image/png": "[encoded data removed]",
            "text/plain": [
              "<Figure size 432x288 with 1 Axes>"
            ]
          },
          "metadata": {
            "tags": [],
            "needs_background": "light"
          }
        }
      ]
    }
  ]
}