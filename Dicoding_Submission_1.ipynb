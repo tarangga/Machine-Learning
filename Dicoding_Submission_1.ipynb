{
  "nbformat": 4,
  "nbformat_minor": 0,
  "metadata": {
    "colab": {
      "name": "Dicoding Submission 1",
      "provenance": [],
      "mount_file_id": "1YKNYvxOFIyuVseB3aVW9sDHmbZd9t3Ia",
      "authorship_tag": "ABX9TyOApWjk7ZcnlRTFw1tkWJ4i"
    },
    "kernelspec": {
      "name": "python3",
      "display_name": "Python 3"
    }
  },
  "cells": [
    {
      "cell_type": "markdown",
      "metadata": {
        "id": "Ug-vQiJsGmKA"
      },
      "source": [
        "Nama : tarangga arief\n",
        "\n",
        "Daerah : Kota Mataram, Nusa Tenggara Barat"
      ]
    },
    {
      "cell_type": "code",
      "metadata": {
        "id": "QpWsRldrVs9k"
      },
      "source": [
        "import zipfile\n",
        "local_zip = '/content/drive/My Drive/Colab Data/rockpaperscissors (1).zip'\n",
        "zip_ref = zipfile.ZipFile(local_zip, 'r')\n",
        "zip_ref.extractall()\n",
        "zip_ref.close()\n"
      ],
      "execution_count": null,
      "outputs": []
    },
    {
      "cell_type": "code",
      "metadata": {
        "id": "62nkyx5ncZB-",
        "colab": {
          "base_uri": "https://localhost:8080/",
          "height": 34
        },
        "outputId": "38360e5b-00e2-4902-fd7d-4e99afe8da38"
      },
      "source": [
        "import os\n",
        "import shutil\n",
        "\n",
        "\n",
        "#shutil.rmtree(\"/content/rockpaperscissors/rps-cv-images/.ipynb_checkpoints\")\n",
        "os.listdir('/content/rockpaperscissors/rps-cv-images') \n"
      ],
      "execution_count": null,
      "outputs": [
        {
          "output_type": "execute_result",
          "data": {
            "text/plain": [
              "['rock', 'README_rpc-cv-images.txt', 'scissors', 'paper']"
            ]
          },
          "metadata": {
            "tags": []
          },
          "execution_count": 160
        }
      ]
    },
    {
      "cell_type": "code",
      "metadata": {
        "id": "DFEOsnadPYRC",
        "colab": {
          "base_uri": "https://localhost:8080/",
          "height": 52
        },
        "outputId": "04797da4-8e4d-4bf8-d193-013bd0371c8a"
      },
      "source": [
        "import tensorflow as tf\n",
        "from tensorflow.keras.optimizers import RMSprop\n",
        "from tensorflow.keras.preprocessing.image import ImageDataGenerator\n",
        "import keras\n",
        "\n",
        "img_size = (64, 64)\n",
        "\n",
        "data_gen = ImageDataGenerator(\n",
        "    rescale = 1./255,\n",
        "    rotation_range = 45,\n",
        "    horizontal_flip = True,\n",
        "    vertical_flip = True,\n",
        "    shear_range = 0.2,\n",
        "    fill_mode = 'nearest',\n",
        "    validation_split = 0.4\n",
        ")\n",
        "\n",
        "train = data_gen.flow_from_directory(\n",
        "    '/content/rockpaperscissors/rps-cv-images',\n",
        "    target_size = img_size,\n",
        "    batch_size = 4,\n",
        "    class_mode = 'categorical',\n",
        "    subset = 'training'\n",
        ")\n",
        "\n",
        "val = data_gen.flow_from_directory(\n",
        "    '/content/rockpaperscissors/rps-cv-images',\n",
        "    target_size = img_size,\n",
        "    batch_size = 4,\n",
        "    class_mode = 'categorical',\n",
        "    subset = 'validation'\n",
        ")\n",
        "\n"
      ],
      "execution_count": null,
      "outputs": [
        {
          "output_type": "stream",
          "text": [
            "Found 1314 images belonging to 3 classes.\n",
            "Found 874 images belonging to 3 classes.\n"
          ],
          "name": "stdout"
        }
      ]
    },
    {
      "cell_type": "code",
      "metadata": {
        "id": "xgvTOWtzybwq"
      },
      "source": [
        "from keras.callbacks import ModelCheckpoint\n",
        "checkpoint_path = '/content/cp.ckpt'\n",
        "checkpoint = ModelCheckpoint(filepath=checkpoint_path, \n",
        "                             monitor='val_accuracy',\n",
        "                             save_weights_only=True, \n",
        "                             verbose=1)"
      ],
      "execution_count": null,
      "outputs": []
    },
    {
      "cell_type": "code",
      "metadata": {
        "id": "NsUCZluObOwA"
      },
      "source": [
        "model = tf.keras.models.Sequential([\n",
        "    tf.keras.layers.Conv2D(32, (3,3), activation='relu', \n",
        "                           input_shape = img_size + (3,)),\n",
        "    tf.keras.layers.MaxPooling2D(2, 2),\n",
        "    tf.keras.layers.Conv2D(64, (3,3), activation='relu'),\n",
        "    tf.keras.layers.MaxPooling2D(2,2),\n",
        "    tf.keras.layers.Conv2D(128, (3,3), activation='relu'),\n",
        "    tf.keras.layers.MaxPooling2D(2,2),\n",
        "    tf.keras.layers.Conv2D(128, (3,3), activation='relu'),\n",
        "    tf.keras.layers.MaxPooling2D(2,2),\n",
        "    tf.keras.layers.Flatten(),\n",
        "    tf.keras.layers.Dense(512, activation='relu'),\n",
        "    tf.keras.layers.Dense(256, activation='relu'),    \n",
        "    tf.keras.layers.Dense(128, activation='relu'),\n",
        "    tf.keras.layers.Dense(3, activation='softmax')\n",
        "])\n",
        "\n",
        "model.compile(loss=keras.losses.categorical_crossentropy,\n",
        "              optimizer=tf.keras.optimizers.Adam(),\n",
        "              metrics=['accuracy'])\n"
      ],
      "execution_count": null,
      "outputs": []
    },
    {
      "cell_type": "code",
      "metadata": {
        "id": "4f7ax079agAi",
        "colab": {
          "base_uri": "https://localhost:8080/",
          "height": 1000
        },
        "outputId": "a5a3b8e5-26a6-41ba-a36c-4fac635ba176"
      },
      "source": [
        "history = model.fit(\n",
        "      train,\n",
        "      steps_per_epoch=50,  \n",
        "      epochs=70,\n",
        "      validation_data = val, \n",
        "      validation_steps = 30, \n",
        "      verbose = 1,\n",
        "      callbacks = [checkpoint])"
      ],
      "execution_count": null,
      "outputs": [
        {
          "output_type": "stream",
          "text": [
            "Epoch 1/70\n",
            "50/50 [==============================] - ETA: 0s - loss: 1.1208 - accuracy: 0.2800\n",
            "Epoch 00001: saving model to /content/cp.ckpt\n",
            "50/50 [==============================] - 4s 78ms/step - loss: 1.1208 - accuracy: 0.2800 - val_loss: 1.0961 - val_accuracy: 0.3333\n",
            "Epoch 2/70\n",
            "50/50 [==============================] - ETA: 0s - loss: 1.0997 - accuracy: 0.4100\n",
            "Epoch 00002: saving model to /content/cp.ckpt\n",
            "50/50 [==============================] - 4s 73ms/step - loss: 1.0997 - accuracy: 0.4100 - val_loss: 1.0945 - val_accuracy: 0.3500\n",
            "Epoch 3/70\n",
            "50/50 [==============================] - ETA: 0s - loss: 1.0921 - accuracy: 0.3400\n",
            "Epoch 00003: saving model to /content/cp.ckpt\n",
            "50/50 [==============================] - 4s 74ms/step - loss: 1.0921 - accuracy: 0.3400 - val_loss: 0.9755 - val_accuracy: 0.4583\n",
            "Epoch 4/70\n",
            "50/50 [==============================] - ETA: 0s - loss: 0.8851 - accuracy: 0.5650\n",
            "Epoch 00004: saving model to /content/cp.ckpt\n",
            "50/50 [==============================] - 4s 74ms/step - loss: 0.8851 - accuracy: 0.5650 - val_loss: 0.8967 - val_accuracy: 0.5583\n",
            "Epoch 5/70\n",
            "50/50 [==============================] - ETA: 0s - loss: 0.8009 - accuracy: 0.5700\n",
            "Epoch 00005: saving model to /content/cp.ckpt\n",
            "50/50 [==============================] - 4s 75ms/step - loss: 0.8009 - accuracy: 0.5700 - val_loss: 0.7865 - val_accuracy: 0.6167\n",
            "Epoch 6/70\n",
            "50/50 [==============================] - ETA: 0s - loss: 0.7526 - accuracy: 0.5909\n",
            "Epoch 00006: saving model to /content/cp.ckpt\n",
            "50/50 [==============================] - 4s 74ms/step - loss: 0.7526 - accuracy: 0.5909 - val_loss: 0.7002 - val_accuracy: 0.6417\n",
            "Epoch 7/70\n",
            "50/50 [==============================] - ETA: 0s - loss: 0.6646 - accuracy: 0.6100\n",
            "Epoch 00007: saving model to /content/cp.ckpt\n",
            "50/50 [==============================] - 4s 73ms/step - loss: 0.6646 - accuracy: 0.6100 - val_loss: 0.8053 - val_accuracy: 0.6250\n",
            "Epoch 8/70\n",
            "50/50 [==============================] - ETA: 0s - loss: 0.6577 - accuracy: 0.6350\n",
            "Epoch 00008: saving model to /content/cp.ckpt\n",
            "50/50 [==============================] - 4s 72ms/step - loss: 0.6577 - accuracy: 0.6350 - val_loss: 0.6475 - val_accuracy: 0.6833\n",
            "Epoch 9/70\n",
            "50/50 [==============================] - ETA: 0s - loss: 0.5667 - accuracy: 0.6850\n",
            "Epoch 00009: saving model to /content/cp.ckpt\n",
            "50/50 [==============================] - 4s 71ms/step - loss: 0.5667 - accuracy: 0.6850 - val_loss: 0.4924 - val_accuracy: 0.7917\n",
            "Epoch 10/70\n",
            "50/50 [==============================] - ETA: 0s - loss: 0.6614 - accuracy: 0.6700\n",
            "Epoch 00010: saving model to /content/cp.ckpt\n",
            "50/50 [==============================] - 4s 74ms/step - loss: 0.6614 - accuracy: 0.6700 - val_loss: 0.5196 - val_accuracy: 0.8167\n",
            "Epoch 11/70\n",
            "50/50 [==============================] - ETA: 0s - loss: 0.5608 - accuracy: 0.7650\n",
            "Epoch 00011: saving model to /content/cp.ckpt\n",
            "50/50 [==============================] - 4s 73ms/step - loss: 0.5608 - accuracy: 0.7650 - val_loss: 0.9332 - val_accuracy: 0.5500\n",
            "Epoch 12/70\n",
            "50/50 [==============================] - ETA: 0s - loss: 0.6335 - accuracy: 0.6850\n",
            "Epoch 00012: saving model to /content/cp.ckpt\n",
            "50/50 [==============================] - 4s 73ms/step - loss: 0.6335 - accuracy: 0.6850 - val_loss: 0.6006 - val_accuracy: 0.7667\n",
            "Epoch 13/70\n",
            "50/50 [==============================] - ETA: 0s - loss: 0.4779 - accuracy: 0.7800\n",
            "Epoch 00013: saving model to /content/cp.ckpt\n",
            "50/50 [==============================] - 4s 73ms/step - loss: 0.4779 - accuracy: 0.7800 - val_loss: 0.9491 - val_accuracy: 0.5917\n",
            "Epoch 14/70\n",
            "50/50 [==============================] - ETA: 0s - loss: 0.5911 - accuracy: 0.7150\n",
            "Epoch 00014: saving model to /content/cp.ckpt\n",
            "50/50 [==============================] - 4s 74ms/step - loss: 0.5911 - accuracy: 0.7150 - val_loss: 0.4721 - val_accuracy: 0.7833\n",
            "Epoch 15/70\n",
            "50/50 [==============================] - ETA: 0s - loss: 0.5080 - accuracy: 0.8000\n",
            "Epoch 00015: saving model to /content/cp.ckpt\n",
            "50/50 [==============================] - 4s 74ms/step - loss: 0.5080 - accuracy: 0.8000 - val_loss: 0.4773 - val_accuracy: 0.8250\n",
            "Epoch 16/70\n",
            "50/50 [==============================] - ETA: 0s - loss: 0.4754 - accuracy: 0.8200\n",
            "Epoch 00016: saving model to /content/cp.ckpt\n",
            "50/50 [==============================] - 4s 73ms/step - loss: 0.4754 - accuracy: 0.8200 - val_loss: 0.5156 - val_accuracy: 0.8083\n",
            "Epoch 17/70\n",
            "50/50 [==============================] - ETA: 0s - loss: 0.4079 - accuracy: 0.8283\n",
            "Epoch 00017: saving model to /content/cp.ckpt\n",
            "50/50 [==============================] - 4s 72ms/step - loss: 0.4079 - accuracy: 0.8283 - val_loss: 0.4420 - val_accuracy: 0.8333\n",
            "Epoch 18/70\n",
            "50/50 [==============================] - ETA: 0s - loss: 0.3735 - accuracy: 0.8450\n",
            "Epoch 00018: saving model to /content/cp.ckpt\n",
            "50/50 [==============================] - 4s 74ms/step - loss: 0.3735 - accuracy: 0.8450 - val_loss: 0.7351 - val_accuracy: 0.7583\n",
            "Epoch 19/70\n",
            "50/50 [==============================] - ETA: 0s - loss: 0.4522 - accuracy: 0.8350\n",
            "Epoch 00019: saving model to /content/cp.ckpt\n",
            "50/50 [==============================] - 4s 73ms/step - loss: 0.4522 - accuracy: 0.8350 - val_loss: 0.5318 - val_accuracy: 0.8000\n",
            "Epoch 20/70\n",
            "50/50 [==============================] - ETA: 0s - loss: 0.4488 - accuracy: 0.8333\n",
            "Epoch 00020: saving model to /content/cp.ckpt\n",
            "50/50 [==============================] - 4s 73ms/step - loss: 0.4488 - accuracy: 0.8333 - val_loss: 0.3639 - val_accuracy: 0.8750\n",
            "Epoch 21/70\n",
            "50/50 [==============================] - ETA: 0s - loss: 0.3999 - accuracy: 0.8500\n",
            "Epoch 00021: saving model to /content/cp.ckpt\n",
            "50/50 [==============================] - 4s 73ms/step - loss: 0.3999 - accuracy: 0.8500 - val_loss: 0.3717 - val_accuracy: 0.8750\n",
            "Epoch 22/70\n",
            "50/50 [==============================] - ETA: 0s - loss: 0.4251 - accuracy: 0.8200\n",
            "Epoch 00022: saving model to /content/cp.ckpt\n",
            "50/50 [==============================] - 4s 74ms/step - loss: 0.4251 - accuracy: 0.8200 - val_loss: 0.4252 - val_accuracy: 0.8417\n",
            "Epoch 23/70\n",
            "50/50 [==============================] - ETA: 0s - loss: 0.3032 - accuracy: 0.8850\n",
            "Epoch 00023: saving model to /content/cp.ckpt\n",
            "50/50 [==============================] - 4s 74ms/step - loss: 0.3032 - accuracy: 0.8850 - val_loss: 0.2795 - val_accuracy: 0.9083\n",
            "Epoch 24/70\n",
            "50/50 [==============================] - ETA: 0s - loss: 0.4000 - accuracy: 0.8384\n",
            "Epoch 00024: saving model to /content/cp.ckpt\n",
            "50/50 [==============================] - 4s 73ms/step - loss: 0.4000 - accuracy: 0.8384 - val_loss: 0.3854 - val_accuracy: 0.8417\n",
            "Epoch 25/70\n",
            "50/50 [==============================] - ETA: 0s - loss: 0.4802 - accuracy: 0.8000\n",
            "Epoch 00025: saving model to /content/cp.ckpt\n",
            "50/50 [==============================] - 4s 72ms/step - loss: 0.4802 - accuracy: 0.8000 - val_loss: 0.2938 - val_accuracy: 0.9083\n",
            "Epoch 26/70\n",
            "50/50 [==============================] - ETA: 0s - loss: 0.3425 - accuracy: 0.8650\n",
            "Epoch 00026: saving model to /content/cp.ckpt\n",
            "50/50 [==============================] - 4s 75ms/step - loss: 0.3425 - accuracy: 0.8650 - val_loss: 0.3561 - val_accuracy: 0.8750\n",
            "Epoch 27/70\n",
            "50/50 [==============================] - ETA: 0s - loss: 0.3511 - accuracy: 0.8586\n",
            "Epoch 00027: saving model to /content/cp.ckpt\n",
            "50/50 [==============================] - 4s 73ms/step - loss: 0.3511 - accuracy: 0.8586 - val_loss: 0.3497 - val_accuracy: 0.9083\n",
            "Epoch 28/70\n",
            "50/50 [==============================] - ETA: 0s - loss: 0.3548 - accuracy: 0.8950\n",
            "Epoch 00028: saving model to /content/cp.ckpt\n",
            "50/50 [==============================] - 4s 73ms/step - loss: 0.3548 - accuracy: 0.8950 - val_loss: 0.4686 - val_accuracy: 0.8417\n",
            "Epoch 29/70\n",
            "50/50 [==============================] - ETA: 0s - loss: 0.3252 - accuracy: 0.8700\n",
            "Epoch 00029: saving model to /content/cp.ckpt\n",
            "50/50 [==============================] - 4s 73ms/step - loss: 0.3252 - accuracy: 0.8700 - val_loss: 0.3730 - val_accuracy: 0.8583\n",
            "Epoch 30/70\n",
            "50/50 [==============================] - ETA: 0s - loss: 0.2832 - accuracy: 0.8900\n",
            "Epoch 00030: saving model to /content/cp.ckpt\n",
            "50/50 [==============================] - 4s 73ms/step - loss: 0.2832 - accuracy: 0.8900 - val_loss: 0.2716 - val_accuracy: 0.8917\n",
            "Epoch 31/70\n",
            "50/50 [==============================] - ETA: 0s - loss: 0.2280 - accuracy: 0.9150\n",
            "Epoch 00031: saving model to /content/cp.ckpt\n",
            "50/50 [==============================] - 4s 74ms/step - loss: 0.2280 - accuracy: 0.9150 - val_loss: 0.5221 - val_accuracy: 0.8417\n",
            "Epoch 32/70\n",
            "50/50 [==============================] - ETA: 0s - loss: 0.3769 - accuracy: 0.8838\n",
            "Epoch 00032: saving model to /content/cp.ckpt\n",
            "50/50 [==============================] - 4s 73ms/step - loss: 0.3769 - accuracy: 0.8838 - val_loss: 0.3597 - val_accuracy: 0.8750\n",
            "Epoch 33/70\n",
            "50/50 [==============================] - ETA: 0s - loss: 0.3014 - accuracy: 0.8750\n",
            "Epoch 00033: saving model to /content/cp.ckpt\n",
            "50/50 [==============================] - 4s 71ms/step - loss: 0.3014 - accuracy: 0.8750 - val_loss: 0.5021 - val_accuracy: 0.8167\n",
            "Epoch 34/70\n",
            "50/50 [==============================] - ETA: 0s - loss: 0.3601 - accuracy: 0.8650\n",
            "Epoch 00034: saving model to /content/cp.ckpt\n",
            "50/50 [==============================] - 4s 74ms/step - loss: 0.3601 - accuracy: 0.8650 - val_loss: 0.3288 - val_accuracy: 0.8833\n",
            "Epoch 35/70\n",
            "50/50 [==============================] - ETA: 0s - loss: 0.2769 - accuracy: 0.8950\n",
            "Epoch 00035: saving model to /content/cp.ckpt\n",
            "50/50 [==============================] - 4s 73ms/step - loss: 0.2769 - accuracy: 0.8950 - val_loss: 0.2486 - val_accuracy: 0.9250\n",
            "Epoch 36/70\n",
            "50/50 [==============================] - ETA: 0s - loss: 0.2519 - accuracy: 0.9091\n",
            "Epoch 00036: saving model to /content/cp.ckpt\n",
            "50/50 [==============================] - 4s 73ms/step - loss: 0.2519 - accuracy: 0.9091 - val_loss: 0.6431 - val_accuracy: 0.7250\n",
            "Epoch 37/70\n",
            "50/50 [==============================] - ETA: 0s - loss: 0.2880 - accuracy: 0.8950\n",
            "Epoch 00037: saving model to /content/cp.ckpt\n",
            "50/50 [==============================] - 4s 73ms/step - loss: 0.2880 - accuracy: 0.8950 - val_loss: 0.2778 - val_accuracy: 0.9000\n",
            "Epoch 38/70\n",
            "50/50 [==============================] - ETA: 0s - loss: 0.1921 - accuracy: 0.9250\n",
            "Epoch 00038: saving model to /content/cp.ckpt\n",
            "50/50 [==============================] - 4s 73ms/step - loss: 0.1921 - accuracy: 0.9250 - val_loss: 0.2063 - val_accuracy: 0.9250\n",
            "Epoch 39/70\n",
            "50/50 [==============================] - ETA: 0s - loss: 0.4186 - accuracy: 0.8200\n",
            "Epoch 00039: saving model to /content/cp.ckpt\n",
            "50/50 [==============================] - 4s 72ms/step - loss: 0.4186 - accuracy: 0.8200 - val_loss: 0.2380 - val_accuracy: 0.9083\n",
            "Epoch 40/70\n",
            "50/50 [==============================] - ETA: 0s - loss: 0.2537 - accuracy: 0.9050\n",
            "Epoch 00040: saving model to /content/cp.ckpt\n",
            "50/50 [==============================] - 4s 72ms/step - loss: 0.2537 - accuracy: 0.9050 - val_loss: 0.2217 - val_accuracy: 0.9000\n",
            "Epoch 41/70\n",
            "50/50 [==============================] - ETA: 0s - loss: 0.2063 - accuracy: 0.9200\n",
            "Epoch 00041: saving model to /content/cp.ckpt\n",
            "50/50 [==============================] - 4s 72ms/step - loss: 0.2063 - accuracy: 0.9200 - val_loss: 0.2935 - val_accuracy: 0.9000\n",
            "Epoch 42/70\n",
            "50/50 [==============================] - ETA: 0s - loss: 0.3306 - accuracy: 0.8850\n",
            "Epoch 00042: saving model to /content/cp.ckpt\n",
            "50/50 [==============================] - 4s 73ms/step - loss: 0.3306 - accuracy: 0.8850 - val_loss: 0.3753 - val_accuracy: 0.8750\n",
            "Epoch 43/70\n",
            "50/50 [==============================] - ETA: 0s - loss: 0.2808 - accuracy: 0.9000\n",
            "Epoch 00043: saving model to /content/cp.ckpt\n",
            "50/50 [==============================] - 4s 73ms/step - loss: 0.2808 - accuracy: 0.9000 - val_loss: 0.2374 - val_accuracy: 0.8917\n",
            "Epoch 44/70\n",
            "50/50 [==============================] - ETA: 0s - loss: 0.3051 - accuracy: 0.8434\n",
            "Epoch 00044: saving model to /content/cp.ckpt\n",
            "50/50 [==============================] - 4s 72ms/step - loss: 0.3051 - accuracy: 0.8434 - val_loss: 0.2879 - val_accuracy: 0.8750\n",
            "Epoch 45/70\n",
            "50/50 [==============================] - ETA: 0s - loss: 0.2753 - accuracy: 0.9100\n",
            "Epoch 00045: saving model to /content/cp.ckpt\n",
            "50/50 [==============================] - 4s 73ms/step - loss: 0.2753 - accuracy: 0.9100 - val_loss: 0.2398 - val_accuracy: 0.9333\n",
            "Epoch 46/70\n",
            "50/50 [==============================] - ETA: 0s - loss: 0.2371 - accuracy: 0.9200\n",
            "Epoch 00046: saving model to /content/cp.ckpt\n",
            "50/50 [==============================] - 4s 73ms/step - loss: 0.2371 - accuracy: 0.9200 - val_loss: 0.1725 - val_accuracy: 0.9417\n",
            "Epoch 47/70\n",
            "50/50 [==============================] - ETA: 0s - loss: 0.1901 - accuracy: 0.9500\n",
            "Epoch 00047: saving model to /content/cp.ckpt\n",
            "50/50 [==============================] - 4s 73ms/step - loss: 0.1901 - accuracy: 0.9500 - val_loss: 0.2985 - val_accuracy: 0.9333\n",
            "Epoch 48/70\n",
            "50/50 [==============================] - ETA: 0s - loss: 0.2479 - accuracy: 0.9200\n",
            "Epoch 00048: saving model to /content/cp.ckpt\n",
            "50/50 [==============================] - 4s 73ms/step - loss: 0.2479 - accuracy: 0.9200 - val_loss: 0.1954 - val_accuracy: 0.9167\n",
            "Epoch 49/70\n",
            "50/50 [==============================] - ETA: 0s - loss: 0.1978 - accuracy: 0.9200\n",
            "Epoch 00049: saving model to /content/cp.ckpt\n",
            "50/50 [==============================] - 4s 74ms/step - loss: 0.1978 - accuracy: 0.9200 - val_loss: 0.1960 - val_accuracy: 0.9167\n",
            "Epoch 50/70\n",
            "50/50 [==============================] - ETA: 0s - loss: 0.2726 - accuracy: 0.8900\n",
            "Epoch 00050: saving model to /content/cp.ckpt\n",
            "50/50 [==============================] - 4s 75ms/step - loss: 0.2726 - accuracy: 0.8900 - val_loss: 0.3785 - val_accuracy: 0.8500\n",
            "Epoch 51/70\n",
            "50/50 [==============================] - ETA: 0s - loss: 0.2115 - accuracy: 0.9200\n",
            "Epoch 00051: saving model to /content/cp.ckpt\n",
            "50/50 [==============================] - 4s 74ms/step - loss: 0.2115 - accuracy: 0.9200 - val_loss: 0.1635 - val_accuracy: 0.9583\n",
            "Epoch 52/70\n",
            "50/50 [==============================] - ETA: 0s - loss: 0.2805 - accuracy: 0.9250\n",
            "Epoch 00052: saving model to /content/cp.ckpt\n",
            "50/50 [==============================] - 4s 75ms/step - loss: 0.2805 - accuracy: 0.9250 - val_loss: 0.2717 - val_accuracy: 0.9333\n",
            "Epoch 53/70\n",
            "50/50 [==============================] - ETA: 0s - loss: 0.2853 - accuracy: 0.9200\n",
            "Epoch 00053: saving model to /content/cp.ckpt\n",
            "50/50 [==============================] - 4s 75ms/step - loss: 0.2853 - accuracy: 0.9200 - val_loss: 0.2707 - val_accuracy: 0.9083\n",
            "Epoch 54/70\n",
            "50/50 [==============================] - ETA: 0s - loss: 0.1906 - accuracy: 0.9200\n",
            "Epoch 00054: saving model to /content/cp.ckpt\n",
            "50/50 [==============================] - 4s 76ms/step - loss: 0.1906 - accuracy: 0.9200 - val_loss: 0.1911 - val_accuracy: 0.9417\n",
            "Epoch 55/70\n",
            "50/50 [==============================] - ETA: 0s - loss: 0.2089 - accuracy: 0.9293\n",
            "Epoch 00055: saving model to /content/cp.ckpt\n",
            "50/50 [==============================] - 4s 74ms/step - loss: 0.2089 - accuracy: 0.9293 - val_loss: 0.2149 - val_accuracy: 0.9167\n",
            "Epoch 56/70\n",
            "50/50 [==============================] - ETA: 0s - loss: 0.2302 - accuracy: 0.9141\n",
            "Epoch 00056: saving model to /content/cp.ckpt\n",
            "50/50 [==============================] - 4s 74ms/step - loss: 0.2302 - accuracy: 0.9141 - val_loss: 0.1777 - val_accuracy: 0.9417\n",
            "Epoch 57/70\n",
            "50/50 [==============================] - ETA: 0s - loss: 0.2116 - accuracy: 0.9350\n",
            "Epoch 00057: saving model to /content/cp.ckpt\n",
            "50/50 [==============================] - 4s 74ms/step - loss: 0.2116 - accuracy: 0.9350 - val_loss: 0.1016 - val_accuracy: 0.9667\n",
            "Epoch 58/70\n",
            "50/50 [==============================] - ETA: 0s - loss: 0.1479 - accuracy: 0.9300\n",
            "Epoch 00058: saving model to /content/cp.ckpt\n",
            "50/50 [==============================] - 4s 75ms/step - loss: 0.1479 - accuracy: 0.9300 - val_loss: 0.1045 - val_accuracy: 0.9583\n",
            "Epoch 59/70\n",
            "50/50 [==============================] - ETA: 0s - loss: 0.2185 - accuracy: 0.9500\n",
            "Epoch 00059: saving model to /content/cp.ckpt\n",
            "50/50 [==============================] - 4s 76ms/step - loss: 0.2185 - accuracy: 0.9500 - val_loss: 0.0995 - val_accuracy: 0.9667\n",
            "Epoch 60/70\n",
            "50/50 [==============================] - ETA: 0s - loss: 0.2893 - accuracy: 0.8900\n",
            "Epoch 00060: saving model to /content/cp.ckpt\n",
            "50/50 [==============================] - 4s 74ms/step - loss: 0.2893 - accuracy: 0.8900 - val_loss: 0.3559 - val_accuracy: 0.8750\n",
            "Epoch 61/70\n",
            "50/50 [==============================] - ETA: 0s - loss: 0.2418 - accuracy: 0.9100\n",
            "Epoch 00061: saving model to /content/cp.ckpt\n",
            "50/50 [==============================] - 4s 74ms/step - loss: 0.2418 - accuracy: 0.9100 - val_loss: 0.2301 - val_accuracy: 0.9000\n",
            "Epoch 62/70\n",
            "50/50 [==============================] - ETA: 0s - loss: 0.2041 - accuracy: 0.9300\n",
            "Epoch 00062: saving model to /content/cp.ckpt\n",
            "50/50 [==============================] - 4s 75ms/step - loss: 0.2041 - accuracy: 0.9300 - val_loss: 0.2592 - val_accuracy: 0.9333\n",
            "Epoch 63/70\n",
            "50/50 [==============================] - ETA: 0s - loss: 0.1633 - accuracy: 0.9300\n",
            "Epoch 00063: saving model to /content/cp.ckpt\n",
            "50/50 [==============================] - 4s 75ms/step - loss: 0.1633 - accuracy: 0.9300 - val_loss: 0.2505 - val_accuracy: 0.8917\n",
            "Epoch 64/70\n",
            "50/50 [==============================] - ETA: 0s - loss: 0.1811 - accuracy: 0.9350\n",
            "Epoch 00064: saving model to /content/cp.ckpt\n",
            "50/50 [==============================] - 4s 72ms/step - loss: 0.1811 - accuracy: 0.9350 - val_loss: 0.1173 - val_accuracy: 0.9667\n",
            "Epoch 65/70\n",
            "50/50 [==============================] - ETA: 0s - loss: 0.1743 - accuracy: 0.9250\n",
            "Epoch 00065: saving model to /content/cp.ckpt\n",
            "50/50 [==============================] - 4s 72ms/step - loss: 0.1743 - accuracy: 0.9250 - val_loss: 0.1608 - val_accuracy: 0.9417\n",
            "Epoch 66/70\n",
            "50/50 [==============================] - ETA: 0s - loss: 0.1299 - accuracy: 0.9500\n",
            "Epoch 00066: saving model to /content/cp.ckpt\n",
            "50/50 [==============================] - 4s 73ms/step - loss: 0.1299 - accuracy: 0.9500 - val_loss: 0.2925 - val_accuracy: 0.9000\n",
            "Epoch 67/70\n",
            "50/50 [==============================] - ETA: 0s - loss: 0.1685 - accuracy: 0.9400\n",
            "Epoch 00067: saving model to /content/cp.ckpt\n",
            "50/50 [==============================] - 4s 75ms/step - loss: 0.1685 - accuracy: 0.9400 - val_loss: 0.1612 - val_accuracy: 0.9583\n",
            "Epoch 68/70\n",
            "50/50 [==============================] - ETA: 0s - loss: 0.1504 - accuracy: 0.9444\n",
            "Epoch 00068: saving model to /content/cp.ckpt\n",
            "50/50 [==============================] - 4s 75ms/step - loss: 0.1504 - accuracy: 0.9444 - val_loss: 0.0701 - val_accuracy: 0.9667\n",
            "Epoch 69/70\n",
            "50/50 [==============================] - ETA: 0s - loss: 0.1221 - accuracy: 0.9800\n",
            "Epoch 00069: saving model to /content/cp.ckpt\n",
            "50/50 [==============================] - 4s 74ms/step - loss: 0.1221 - accuracy: 0.9800 - val_loss: 0.1472 - val_accuracy: 0.9500\n",
            "Epoch 70/70\n",
            "50/50 [==============================] - ETA: 0s - loss: 0.1413 - accuracy: 0.9495\n",
            "Epoch 00070: saving model to /content/cp.ckpt\n",
            "50/50 [==============================] - 4s 75ms/step - loss: 0.1413 - accuracy: 0.9495 - val_loss: 0.1096 - val_accuracy: 0.9667\n"
          ],
          "name": "stdout"
        }
      ]
    },
    {
      "cell_type": "code",
      "metadata": {
        "id": "x-JYmjZWJcel",
        "colab": {
          "base_uri": "https://localhost:8080/",
          "height": 52
        },
        "outputId": "132c4ab6-65b1-4f58-f853-311fd5495204"
      },
      "source": [
        "latest = tf.train.latest_checkpoint(os.path.dirname(checkpoint_path))\n",
        "model.load_weights(latest)\n",
        "model.evaluate(val)"
      ],
      "execution_count": null,
      "outputs": [
        {
          "output_type": "stream",
          "text": [
            "219/219 [==============================] - 6s 27ms/step - loss: 0.1124 - accuracy: 0.9565\n"
          ],
          "name": "stdout"
        },
        {
          "output_type": "execute_result",
          "data": {
            "text/plain": [
              "[0.11244723945856094, 0.95652174949646]"
            ]
          },
          "metadata": {
            "tags": []
          },
          "execution_count": 173
        }
      ]
    },
    {
      "cell_type": "code",
      "metadata": {
        "id": "d-rZesI5x1TZ",
        "colab": {
          "base_uri": "https://localhost:8080/",
          "height": 282
        },
        "outputId": "cdafcae9-6bd8-4224-f2ab-247585bf2459"
      },
      "source": [
        "import matplotlib.pyplot as plt\n",
        "\n",
        "plt.plot(history.history['val_accuracy'])"
      ],
      "execution_count": null,
      "outputs": [
        {
          "output_type": "execute_result",
          "data": {
            "text/plain": [
              "[<matplotlib.lines.Line2D at 0x7fdd00894a20>]"
            ]
          },
          "metadata": {
            "tags": []
          },
          "execution_count": 174
        },
        {
          "output_type": "display_data",
          "data": {
            "image/png": "[encoded data removed]",
            "text/plain": [
              "<Figure size 432x288 with 1 Axes>"
            ]
          },
          "metadata": {
            "tags": [],
            "needs_background": "light"
          }
        }
      ]
    },
    {
      "cell_type": "code",
      "metadata": {
        "id": "nffql8xLec1m",
        "colab": {
          "resources": {
            "http://localhost:8080/nbextensions/google.colab/files.js": {
              "data": "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",
              "ok": true,
              "headers": [
                [
                  "content-type",
                  "application/javascript"
                ]
              ],
              "status": 200,
              "status_text": ""
            }
          },
          "base_uri": "https://localhost:8080/",
          "height": 342
        },
        "outputId": "12ac1911-00ef-469a-91d0-d3cf9fdaa0a8"
      },
      "source": [
        "import numpy as np\n",
        "from google.colab import files\n",
        "from keras.preprocessing import image\n",
        "import matplotlib.pyplot as plt\n",
        "import matplotlib.image as mpimg\n",
        "%matplotlib inline\n",
        "\n",
        "uploaded = files.upload()\n",
        " \n",
        "for fn in uploaded.keys():\n",
        " \n",
        "  # predicting images\n",
        "  path = fn\n",
        "  img = image.load_img(path, target_size=img_size)\n",
        "  imgplot = plt.imshow(img)\n",
        "  x = image.img_to_array(img)\n",
        "  x = np.expand_dims(x, axis=0)\n",
        " \n",
        "  images = np.vstack([x])\n",
        "  classes = model.predict(images, batch_size=30)\n",
        "  if round(classes[0][0]) == 1:\n",
        "    print('paper')\n",
        "  elif round(classes[0][1]) == 1:\n",
        "    print('rock')\n",
        "  else:\n",
        "    print('scissors')"
      ],
      "execution_count": null,
      "outputs": [
        {
          "output_type": "display_data",
          "data": {
            "text/html": [
              "\n",
              "     <input type=\"file\" id=\"files-404c0348-21fd-4ae0-83e6-8a6c3d07d6b2\" name=\"files[]\" multiple disabled\n",
              "        style=\"border:none\" />\n",
              "     <output id=\"result-404c0348-21fd-4ae0-83e6-8a6c3d07d6b2\">\n",
              "      Upload widget is only available when the cell has been executed in the\n",
              "      current browser session. Please rerun this cell to enable.\n",
              "      </output>\n",
              "      <script src=\"/nbextensions/google.colab/files.js\"></script> "
            ],
            "text/plain": [
              "<IPython.core.display.HTML object>"
            ]
          },
          "metadata": {
            "tags": []
          }
        },
        {
          "output_type": "stream",
          "text": [
            "Saving 183709.jpg to 183709 (2).jpg\n",
            "paper\n"
          ],
          "name": "stdout"
        },
        {
          "output_type": "display_data",
          "data": {
            "image/png": "[encoded data removed]",
            "text/plain": [
              "<Figure size 432x288 with 1 Axes>"
            ]
          },
          "metadata": {
            "tags": [],
            "needs_background": "light"
          }
        }
      ]
    },
    {
      "cell_type": "code",
      "metadata": {
        "id": "OdJIkOEjE0sp",
        "colab": {
          "base_uri": "https://localhost:8080/",
          "height": 34
        },
        "outputId": "a59e80f4-3918-4812-8095-797a2bc328fa"
      },
      "source": [
        "train.class_indices"
      ],
      "execution_count": null,
      "outputs": [
        {
          "output_type": "execute_result",
          "data": {
            "text/plain": [
              "{'paper': 0, 'rock': 1, 'scissors': 2}"
            ]
          },
          "metadata": {
            "tags": []
          },
          "execution_count": 188
        }
      ]
    }
  ]
}